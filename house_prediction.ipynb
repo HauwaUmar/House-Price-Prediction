{
  "nbformat": 4,
  "nbformat_minor": 0,
  "metadata": {
    "colab": {
      "provenance": [],
      "toc_visible": true,
      "authorship_tag": "ABX9TyOMy4iz5fZsRE1Xo4QuFm5m",
      "include_colab_link": true
    },
    "kernelspec": {
      "name": "python3",
      "display_name": "Python 3"
    },
    "language_info": {
      "name": "python"
    }
  },
  "cells": [
    {
      "cell_type": "markdown",
      "metadata": {
        "id": "view-in-github",
        "colab_type": "text"
      },
      "source": [
        "<a href=\"https://colab.research.google.com/github/HauwaUmar/House-Price-Prediction/blob/main/house_prediction.ipynb\" target=\"_parent\"><img src=\"https://colab.research.google.com/assets/colab-badge.svg\" alt=\"Open In Colab\"/></a>"
      ]
    },
    {
      "cell_type": "markdown",
      "source": [
        "# **Executive Summary**"
      ],
      "metadata": {
        "id": "c7QF_jHJZ5vf"
      }
    },
    {
      "cell_type": "markdown",
      "source": [
        "The project's goal is to forecast the price of residential properties in Ames, Iowa. The price of each home was estimated using linear regression. A training and testing dataset was given to us so that we could use it to run our model. To make this forecast,  79 explanatory variables were made available. The features provided different details about the house, for example the number of rooms in a house or the condition of the house. Features provided were both numerical and non-numerical data types. \n",
        "\n",
        "\n",
        "**Numerical columns**\n",
        "\n",
        "Examples of numerical columns provides are:\n",
        "```\n",
        "TotRmsAbvGrd: Total rooms above grade (does not include bathrooms)\n",
        "Fireplaces: Number of fireplaces\n",
        "GarageArea: Size of garage in square feet\n",
        "````\n",
        "**Non-numerical columns**\n",
        "\n",
        "Other columns contained categorical data i.e. ordinal and nominal data \n",
        "\n",
        "Example of columns with nominal data:\n",
        "```\n",
        "PavedDrive: Paved driveway\n",
        "\n",
        "       Y\tPaved \n",
        "       P\tPartial Pavement\n",
        "       N\tDirt/Gravel\n",
        "\n",
        "Street: Type of road access to property\n",
        "\n",
        "       Grvl\tGravel\t\n",
        "       Pave\tPaved\n",
        "```\n",
        "Examples of columns with ordinal data:\n",
        "```\n",
        "ExterQual: Evaluates the quality of the material on the exterior \n",
        "\t\t\n",
        "       Ex\tExcellent\n",
        "       Gd\tGood\n",
        "       TA\tAverage/Typical\n",
        "       Fa\tFair\n",
        "       Po\tPoor\n",
        "\n",
        "BsmtQual: Evaluates the height of the basement\n",
        "\n",
        "       Ex\tExcellent (100+ inches)\t\n",
        "       Gd\tGood (90-99 inches)\n",
        "       TA\tTypical (80-89 inches)\n",
        "       Fa\tFair (70-79 inches)\n",
        "       Po\tPoor (<70 inches)\n",
        "       NA\tNo Basement\n",
        "```\n",
        "I joined the train and test data set for the data preprocessing.\n",
        "Following my exploration of the data set, I discovered the following: \n",
        "- I noticed the target variable (i.e. the sale perice) is not normally distributed. This was solved by transforming it by logging it.  \n",
        "- Some columns had up to 50% of missing data. Others had just a few missing. I discarded the columns with a lot of missing data and analysed the other columns individually.\n",
        "- There were either nominal or ordinal data types in the non-numeric columns. Columns with ordinal datatypes that contain information in their ordering set were converted to integers using a label encoder, whereas columns with nominal datatypes were transposed using dummy variables.\n",
        "\n",
        "------------------------------------------------------------------------------\n",
        "\n",
        "I have 236 features to deal with after the preprocessing and transformation of the dataset. I conducted a linear regression with all the variables and split the dataset back into the training and testing dataset that were initially provided.\n",
        "After doing cross-validation using cross_val_score, which is essentially a library used to ensure that all observations are used for both testing and training of a model, the model performed reasonably well. It received an overall score of 84%.\n",
        "\n",
        "\n",
        "------------------------------------------------------------------------------\n",
        "\n",
        "I chose to use the backward elimination strategy to eliminate the variables that were the least significant after noticing some variables in the model summary had lesser significance.\n",
        "\n",
        "------------------------------------------------------------------------------\n",
        "\n",
        "\n",
        "After the feature selection process, 107 features were returned which means 129 columns were removed from the dataset. I noticed a lot of categorical columns were discared. For example, information about the Exterior covering on house played little role in the price of the house. And was taken out.\n",
        "\n",
        "\n",
        "------------------------------------------------------------------------------\n",
        "\n",
        "I created a new model using the 107 variables, and after cross-validating, it increased by 2%, going from 84% to 86%. Although it's not much of an improvement, it's still an improvement.\n",
        "\n",
        "\n"
      ],
      "metadata": {
        "id": "0i_BJE6maBJQ"
      }
    },
    {
      "cell_type": "markdown",
      "source": [
        "## **Kaggle Score**"
      ],
      "metadata": {
        "id": "xyhLu6cH-Gi4"
      }
    },
    {
      "cell_type": "markdown",
      "source": [
        "My Kaggle score is 0.14204"
      ],
      "metadata": {
        "id": "5CVR7f9QMS7P"
      }
    },
    {
      "cell_type": "markdown",
      "source": [
        "![kaggle_score.png](data:image/png;base64,iVBORw0KGgoAAAANSUhEUgAABWoAAADECAYAAAAGYBhLAAAAAXNSR0IArs4c6QAAAARnQU1BAACxjwv8YQUAAAAJcEhZcwAAEnQAABJ0Ad5mH3gAAE9gSURBVHhe7d0PdFPngef9X/wPMAj/wfEfYRsEJjY4MRhw4kCCGyduUsIOKczQpkmnmZKTt9tm291N+s7bSfedztmwc/Y0eXemm8705JQ20zRhhzakmXEIKcHhn40LDgYHgw3GApsImxhso1gYgZz3XunaSLIBGwxyku8HdKR79eg+z3Pvtc7RT4+ee8unBlmcx47LMX2atQQAAAAAAAAAuBHCs9go6x4AAAAAAAAAECEEtQAAAAAAAAAQYQS1AAAAAAAAABBhBLUAAAAAAAAAEGGDLiYGAAAAAAAAALhxzIuIhV9MbFBQG/wkAAAAAAAAAGD0hWexTH0AAAAAAAAAABFGUAsAAAAAAAAAEUZQCwAAAAAAAAARRlALAAAAAAAAABFGUAsAAAAAAAAAEUZQCwAAAAAAAAARRlALAAAAAAAAABFGUAsAAAAAAAAAEUZQCwAAAAAAAAARRlALAAAAAAAAABFGUAsAAAAAAAAAEUZQCwAAAAAAAAARRlALAAAAAAAAABFGUAsAAAAAAAAAEUZQCwAAAAAAAAARRlALAAAAAAAAABFGUAsAAAAAAAAAEUZQCwAAAAAAAAARRlALAAAAAAAAABFGUAsAAAAAAAAAEUZQCwAAAAAAAAARRlALAAAAAAAAABFGUAsAAAAAAAAAEUZQCwAAAAAAAAARRlALAAAAAAAAABFGUAsAAAAAAAAAEUZQCwAAAAAAAAARRlALAAAAAAAAABFGUAsAAAAAAAAAEUZQCwAAAAAAAAARRlALAAAAAAAAABFGUAsAAAAAAAAAEUZQCwAAAAAAAAARRlALAAAAAAAAABFGUAsAAAAAAAAAEUZQCwAAAAAAAAARRlALAAAAAAAAABFGUAsAAAAAAAAAEUZQCwAAAAAAAAARRlALAAAAAAAAABFGUAsAAAAAAAAAEUZQCwAAAAAAAAARNnaD2gteeb2Bm89aNaZdcMvV6pL7grU8arzqaG1RV6+1iM+oG3McvR+3qOWM11oCAAAAAAA3lbdDTfvr1eK2lkeNbyAX84561oSx6pZPDdZjOY8dl2P6NGspMnxdTdqza4/qWoPO8Hi7CorvUVFOoqKtVcPladqs31ZIpY+VKWeitfIGcDdu0rptLXKUPq6ynHhr7fXzuaq1trxOWrhcT81Ps9Z+vgzrGPU0afNrFXJaiwPiE5U9PV9z5uYp2zbSs+Pmue7jaH5x8Wm04uKC+uhzqXptuepUpOVPFerzeXYAAAAAAGC5XDYgm9Jy81VUVCD7NUQygVzCqaJHnlJhqrVySB41vfdbVTRf+hzesX+dNvzJLeWW6YkSh+ICBa+DV+37d2rbh03q8lirDLasAhXdXaScxLGbfWDkwrPY6J8YrMfq6upWUmKitRQB7iZt/fcKnUiYr9KyL+meovmad/ttSo9pV93OSrkm3qaclHFW4eG5cKZZdcZfsKNgppKv/6/lssYlpCg5wa6ZjlSNH8W/mShbqjInTVberOmaFGOt/JwZ1jG6cEbNHzoVP79MJQvm6LbbbvPfZqTFq+fEflXvOq7elKnKThzZ+XGzXO9xbN+/Vv/akKTZM5IVa60zNqrUqRM1OTdX0yfxRg0AAAAA+JyzsoGurHwVz56pzMxM43arEmK61X60SfVN3UpwOJQ8wmggkEt0aWreAmVccZDfBZ1prpOzc6ryFmRokrEmPjFVE8en6LbcmUoZf70/XPeqZed6vb2vXbHp+Zq/cIHm5TuUPuFTtR1uVKPTfU39w9gVnsWOqakP2o9Uq2lCscoeKFB2Yrzi4uIUZ46YnFumsrtS1FLTpHar7JgTmyhHrkOJAynaaIlTWm6e0sZbi19w4xLTZLfbB27ZOQVasmyVli+U6t+tVMNZq+CYc2OOY1x6nvLSb+A3EAAAAAAAjDVpOSqYW2DdirT4wVVafp/DHBqr6kOumzuF5vg05c3Nl2M0RrqeblDNQY80o1TLvrJYBTnZstsdyrurTKuWFije7N+RMZuMYRSMoRG1HrXVfyDn+Nu0IHjUoCX+1pm6Y06qJkVH+9PljgPlqjg6XplZCSFlPcer9W5Vt5Jnpcoc7T4wWvP2LF1oqNSWre9q+76j+visZEs1thc0unFgm7f26lDlFlX8sUaHOjwal5Kh5PGfqqtpt3Zs36EtNYd0slNKtht19P8dflyv8m3NGj81Uwn9DfJ2ybl/tyord2jrznqd6OxRTLK5raB8vM8jV/1uVVcZbdu+X0dPdsk3OUNp/SMkPS2q3rxD3Ym3KTX4W52htp2YquQJQW8M/W0y2nnhcKUqjLZv3dtgtN2nhPS0q4/sHKJt3rgETUkcf2kKihHW4W2rV3XlVm2vqFR9a48+TcxQgve4DgxzRK1RSDOTw8+OaE3KSFHssWrVXshQ/lTbpW8ggveTv11exU6eoqTg/WTwnnGqbnelduzcqsqDJ3SmJ0ZT0pIHjY72uOq1+0+7VPnedh1oPaOzFycoJcWm2FsCz/efQxmJZ1S7dbO2Gv30ZS1Qxi1hxzHouCa664ztVejd7QeM42iemOlKmRh6/BtdbvWc7VTHCacOH7lgnd8etex6Vzu6k3VbatBvO27GuQEAAAAAwM3WP6LWnqcFGeZ41kvGJU7QhdrDOnEhWY45aYq3Pk/vOx/2mVkdqt9Yod0Dn61DR9RO+rha77+3VRXm5+lPLmpcSIYweERt4PP1bp2Jy1Rm0Oi9QTlDl08TUlJlC480gn3i0o4Gl9Lyi1Rwa+hIr6iJybJPzVZ2UoLiJ8YO5B7DrSc4z9jvPKmu3lglTEkKyT38mUbNGY1Pm6SP923Ve1sr5IqfPZDDhG7jY7n74pRktGdcWHaC4RvDI2rjlZKeJjU75Rzq4kjRcf4Rtv3H3ud1ydUzRDnzol4nwi9Adl4tNe+o4mOb8hcv07J78hXfVau3fl+hpqCpcP3bdLeq9r1anZ9aqJKvLFT2hSZVlFerbn+Ftn1kU86dJXqoKFtqrdSGLQ0aePmnXqNet7z9M/76OlS7cb0qXXHKuatUy5YtVu7EDlWv3xw06tMj57YNKj/gUdq8EqNMqYqyzqv+39ar+oTVA2O77hOuS9s1XWi3ti05FprbLlZOnLHt369XRXCHrDa11v5R1WemKH9RqR4qdiimtVpvbaoz3pquwGz/v/1W5fvcss0uDrRtutTyx/V658OgV46gDndThdb/W606J+Rr8bJlWny7Te1b39Ge1vNWieuRIke+XZ7D7eq01gzaT6VFctzykSp//45qT106Q3wf1+qd31fqo7gcFZca58fiXNmMN+b17wUdX4PZ/g3lRvvNcv72p8hjvIlt2NY0UM5/DnU2qnrLHnkSC7T4y0s0xXxvDT+O1nJXa63+WNOlKf7jbx7HTtW8+Ya2H7MmohmXopx585VjNx4nO5RvPJ4/b6omB56Vt8eozxt0tt+McwMAAAAAgLEmOjqQGZ32BTIh63N3yGdmP5+85vpB2ZE5VmqPNu9skdJzVZAbL0+jsRyWIQzi/3wdenF5d/N2vfH7zdrT6tHk6YUqyJA6DlaqfENoDjWI0YcU46798BG1BM1P6xcdrxTz18W3xg9kY8Orx6f2feXaUF6p+o5xyp5frJxkj1pqNmv9hu1yBrXHn2mc6FDj7gpVHDmr+GS74v0DuS5tw9llk+Mucxtn5azapHVv16qdi52NmjEU1EqJuYtVPK1dlb9fr/UV1Wo41q6u3iv8MQybcaLFF2nVA4XKyTJO6un5WvJgmYomNan6wxaFxL3HOmS7+yEVmcPLs/JU/OAS5XvqVe3KUmlJvhzmz+1zi/UV47FaW9XeY70u3MdO7TnlUHFJsfLMOu3Zyrv7yypdZNe4i1aNbpeajnhU+KUyFUwP/JTfYU7zUJqrxKjLhZc+uWqNP0JfocrMtvlf51D+kmV66C6bmqrr1NJrFfVzqn18kb6yxGp7TpHKjP2QcqpOraesIkPp9SoupUBlyx9Sca4j0Lbbl6jkHrva97eGBXnDqMPnUkN1k2wLy4LKGX1YWaT4j1xWoetjS0wz3lU71OU/JtZ+ktGWkP30FZXN92nPjvqBPnQc36P26cUquTtP2Ua7/Mf9gVItto8z3qSsQmcbVFnRpLT7lmtZcPuXLlHKkQrVHQ86i054lLJopUrvypNjurHN/lR1CPXOiyoKb9/CeDXsrJfLPPWtN+IU82u6uCSlme2zJ15mcvKbdG4AAAAAADDG+E651Go+mDNFSf41I1d/XCpetUoP3VOk4pLlWvVIkdLUrj1VDeqyylxVb4vqjPLu+HyV/XnYtjxNqtgflkMFm5KvxXfaFX+qVpt++1t/Nlbf5FKXZ4hsbLj1nK5X9W6XPDOW6NFVD2nxwgIVl67SqmXG538z6xjUHpfaowv06DdWadnSZVo8PX5gG5pVquV/XqriuUHbOLVHlQcZ7jVaxlRQq9gUFTz4qB5ftlDZ0e2q/eNbWv+btfrt7ytU5wr/KmEkjO3m2C/9XN8Um6bc2x3yHHCpI/h8z8yVY4r12BQ7zj8MXmlJsvlXBEQnp8khp9yXC2qjY4zXudXpDj7d42S/vUCO/t/3W9/2dHWHfp2SklOkvMtdptDXrpZ9Hjnm5istbBh7yuxCf6jc2h5cZ4pyHGkhfY9Oz1aWPOo4e4V9OtGu/HuK5QjutMFmM97uBsLQflevw3eyRbUeh/JzQ8sp1q6cueb3RaMgKuj3+tZ+KjDegEL3U7TSbpsj++kmuU5ba2KMfe3uVMihGm/0f65Didahcrua1BJfpIJZYTtkcp7KnnhCRZlB0alxDuWkhvTysuz5eYPbl5svh6dWLSdH+CXFzTo3AAAAAACIpIvn5fV6Azd3h1qa9mjzH/eow/icW3Tb1MsMbro68zO6PejF0an5Ksg1Hpxyqm2Y18Txtreq3vhInV1UIEfQ7AXmtkqWLdOyGVcYzWVmAvOWacUjS1QwLU7epjpVVpRr/W+tbKzt0mf64dbT4TKv9xSvwjmzZAtKAePseZqTJXkONumjkAggRQUFOSFlA9uwa+ECY721zuTfRqbxfJOLX+aOkrEV1PpFK9440Oa3AI8+uVqPrixTYapHdeW/1Vv7OnRt42vTlBiWr5niJ5sBoVue4FGGcTEhwdU1uzVHi3PPq7b8Fa37w3ZVH2iSqytsWH18tvLvtKt92zrjD26TKmsa5Dztlq/Pen4ovR7/z+xTJg8R5JojLqdLTnOe0wE2xQ9xAathTUHa51WX8WbUsL9O1dvKVV6+XuveqbeeDHb1Os73+lst2xBXT0xKMn/Xf/183qBRyNZ+cta8o/KNRtuDb9vr1GW8hfisg5Eyc7HyLtSq/JV1emub9W1V2Ehuj8clpdtC3pD6RZsXvQs+aUZwDqUNdWJOtBl7yjgze0c4JcTNPDcAAAAAAIiUfZv0yiuvBG7rNmhTRa1aZFfBl80M6dpTnanJ4Z/R45SSZmYWLp0L+YXq5Z3tdPrv05IGbyvxir+SvSQ+1fyF9yo9vvoJfy62ZK5D0WeaVP1vb2iP/+e3w63Ho652M0JNU1JC+H6xKSnNvG9S1yf+FZbwrMAjd4e5jS7VbQ/LVzZuU90Z46n+6SZw3cZgUBskKlq2KYGfbptX72vfXTd4jo5hiVbMlf5OrxSMXjObHCXGH9UjpYE5Qpr2qHz9K1pXXq2WgQG0gW9KVq16SAun2+Rpq1PlG+u0dv1m1Rsn+cgZnTSOqKdvFP483E5tN9q7/o97dMx9XvGJOcqfX6oVSwutAmNPZ6fLeDdLUWJQGJyUkq1sc7Lt4FtWngruKg7MHWuyObTkLx7X8tIC462rQ0015Vr/m3Uq39XiDz5vpJib9hc4iucGAAAAAACRlLdYy8xRo9Zt+arHtfoby1Q8fajhVdcpepz1YHh8faP4C9XoOH8ulndXmR5dtVjZcqt23xF/VjGq9VxFYKBbvFJSB2cseXcUq/iuKYFfo+O6jZ2g1udRh8uljp6hgyTbrXalhaf8fcbLrIdX1qGzQ0xR4D1nntTR5gwEN0i04lNzlH/XEi175FE99fhDyjlfp00HXSHtjks0TuyFi1W2bJUef2KVFqc4VfmnwB/eILFx/pPfcy74J+z93Opslhy26//z6DhaqYbYQi3/WmCek4K5eXLYU6xJpK9BlLmTPTo/RLM9n4zCAPkL7XIe7lDKHVn+0aj9+ylxer7R9oIhbyFzx0bHKy0nX8Ulxhv815/S4w/myPvhJtVbF3WLjjW22u0xejC6OsKmvfDznvfXEx87wp19k84NAAAAAAAialKKzGvp9N/SEuMVfbmEa4jBeRet+3CDpwH0yX3GHLlqfJa+JbDmauJtDv+92zP4s7nPP13D5ZMs9/E61e2vU8tQ0ywkpsg/APbEuUBmMKx64mVLNNeE/Zrcz6vz/u46ZJvgX3EZ/duwKXv20PlKwdxs41mMhrET1Ea71VpRrk0H2ocMX91trWpXvqb4Tw7rhDzmUkfIieaW61hg6HcolxqPh4eBbrUcqZey7Eq5AdmV93ST6g+4QoO9+KnKzjTu3R6ZP2r39bjUUNMUOo9HXKJRxj7whzdIXLrsuVL9kcGjPX0nnGpUtrLSrv/Pw//NTEKSbCFznfrU7vJPzT1i8Sl2o2X1xnEIb3WHnA3XeTGxPreadm5W7bkcFeZY891a+6np2EeDJ+nualF9U7sCc3F71dFUr/qwOZDjM7Nl/rihf/qBFHuOUoxj6mwLOzsvuFS7sVzVwRcTGwFn00eDjqP7eKOxp/JkTwv7MYT34pW/mLhJ5wYAAAAAAGOeNZhJDU65LvjX+Lmb6o3Px0Nzhn+edjtVv9+4j89VWnJg1dXY0rKMT99GtYeaw7bVpApzqobtzssPAut1qfpP1aptGpyNeV0t8ideMwLTMg63nhR7obEfOlTXFDpoUO4WNR407rOydLWoILANY18cCWvXhXbV/2mP6hrbB2cvuCZjJ6hVmnIX5Uj7y1W+rd4/V6s5KbSny6Wm3Zv01vYWpd2Zq6lWdhU4IRtU+V61GlpdcrU2qfa9d9R0Yaj5Th2ydVRo+4F2uc1vFTwdaqqqUEVzmooWzroxqf8n7ao16qjur9PrUUdTtfYYf+CO6Xb/m0V0b4ca91aocrdTXR6zjFduV60qa1xKWWgPjAwdJE6O24uV1my0v6pJHf7XedR1bI/e2Von28JCzbrSvNTDlJScJzXXq/5Ylzz+9rvl2rdZe1qucfjx5FlaeGeanO8b/W3qCGzTbfxBb6tQR0LgW6DhON/VLpfLON7+m1MNNZXatH6dKj5KVNGXS+QYmPYgsJ9sBzfpnaoGtbut/XvKOGe2blJtq1s+qyueNmOfm1dSPBU45/znh/lGY5w3jgwrxZ+Sp4VzPMY5ttl4rbVP3C7VVlRoz5kUZQfPNj4CjvEubRton3mOVKrifadxrs9RdtCcMElT8qUTjcabX4tcRjuHDmxvzrkBAAAAAMCYF5eurDnGZ3pPncrf2Kxq8/o7Fev11jFfYGTqEByxrXrr3Wo1HHOppalWm9+ukFPxylmUL/tw45DJs1S40KihdbveKt+u+rBtFeQ5/JnQUGwzClWUKrXXvKX171Rqj9Fmc4St2e715bXqMFpeNNd6/TDriTavAzUrXp7+vM0VXM7Y3oKr52L922iv2ax3tge24WptUPW7m1W5v1EdsTZdWyqCcNE/MViP1dXVraREa8hqBMQmOZSTEauPG/erZm+t9u3bp7r6w3J6EjR78YNaMidZAwM8x6UoOy1K7cbJZZY57DqvlNvv07wp7ap3xitvQYYmGcUunGlWnTNF9y6fJ9Vv0cb3d2tf3SE5e1NV/OADmhd0efyekx+o8ZxDBTOC6lGP2j5olMs4KRdkmFu0XDij5g+NUz9vgTLMcLCnTR80eOQomKlk4+yMTpyq7IReHa3Zrl179hl9qdOh9gvKKFqqJXkJ5oyhUnyaZkyNlat2uyr9ZfbpwGG3EuaU6EsLMjXeHFYfXo/JeN2smQnqbqzW1so9/m3Xn+xV2rylun9u6qW2h7XpkkCfPI4CzUwOGTI7IDoxQ5kxLn2wvVI1Rrv27WvWJ8kLVXJHnA40Bm1z2HVEKT59hn+b+3buCmzzQKtuua1MpY6Lqh1yG0Gs/dB6slmHDxvH239r1hnfJKXmFeuBJUWaNjnse4eB/bRb23eZ+8nYvw0fK3bGvXqgOEeBebSjlZCRrYTeo6rZvkt7zHYZ50f7xQzd+dAS5SX2vxMb5TIdSu5tNdpfZbX/sNyTZ6vky8XKtn4mMPQ5ZAg/jtZyypKvKq93tza/u8Oo2zhHnL1KXbRMDxSkhLw+OjFJt3pbtH93reobojR1XqZsURd0prlOzglB5+ZNODcAAAAAAIgI67N0V3hGMyTz875d48+eUGtbu9o/OiFP4gI9uMShi/sa5dLUsOyoS7PufUR3XPxQlTs/MD6fu9QVbVfBvQ9o0UybNdLR+hzeeem1gc/XLiUF5R+TMmZo2rhP1HLssI40HFaTua1x2Sq6f5mKMq/wWTt6kjJmzFTCp265DjfpuNHmE8at/UyvxmcV6J4vL1F+Sv/rh1vPOCVPcyjZd1bO+gM6dDhQzjsxR3c+dL8KUi+1x59puJKGyAr6t3FazdY2DjcdV/stGSpYXBq0fzBS4VnsLZ8arMdyHjsux/Rp1lJkmfNpBEYNRisu5JL6g/m8PkVfpUy/wHavvs3R41P//CPRcXFGzUPr7290jFFmBGf3wOuusO3r4vPK3/xb4hR3hfeSEekz9slFY6PRxjZv1mG4YPTDONOvuH/7+3q186O//dezT3qatPm1CqU88pQKU41lq+6rHn+z7k+N9g1jv93wcwMAAAAAgM8C8zO3RpBB9H9Gv+7P0/2Z0LXkUJfypKvnJ8Ospz/PuKb2WEZjGxgQnsWO2cDb/GOI89+uftCHG9KaAtu9mSeSeeIG+nKlWvv7O5KQ1jTwOmt51JlvBmYdoxXSmqKsfXIzD0PsMPZvf1+v1rD+9o/mPrHqvurxN+se5n674ecGAAAAAACfBSMdKNb/Gd1avHb9mdC1bOlSnnT1lw+znv4845raYxmNbeCyxmxQCwAAAAAAAABfFAS1QCTE2pR1V7GmBF0wDAAAAAAAAF9cBLVAJMSlKW9ugbInW8sAAAAAAAD4QiOoBQAAAAAAAIAII6gFAAAAAAAAgAgjqAUAAAAAAACACCOoBQAAAAAAAIAII6gFAAAAAAAAgAgjqAUAAAAAAACACCOoBQAAAAAAAIAII6gFAAAAAAAAgAgjqAUAAAAAAACACLvlU4P1WM5jx5WVOdVaAgAAAAAAAACMtpiYGH8W65g+zVozRFCbmJBgLQEAAAAAAAAARltSUuLVg9rgJwEAAAAAAAAAoy88i2WOWgAAAAAAAACIMIJaAAAAAAAAAIgwgloAAAAAAAAAiDCCWgAAAAAAAACIMIJaAAAAAAAAAIgwgloAAAAAAAAAiDCCWgAAAAAAAACIMIJaAAAAAAAAAIgwgloAAAAAAAAAiDCCWgAAAAAAAACIMIJaAAAAAAAAAIgwgloAAAAAAAAAiDCCWgAAAAAAAACIMIJaAAAAAAAAAIgwgloAAAAAAAAAiDCCWgAAAAAAAACIMIJaAAAAAAAAAIiwL25Q2+PShvK9ev3QOWsFIqq7Ra9v2KeNLRetFaPoRm4bAAAAAAB85nh7etRj3rzWirHE5w20zbh5fda6KxjoS6+1Ap9Zt3xqsB7Leey4HNOnWUufb23bdihjt/HXOG6KDn5/nmZb60fXRfV2n1Nv1Dgl2uKsdcPgPaUN/3pI32u7qDYlqOqHC3W39dTNtut3W7ToWJxe++a9+ka6tfIGqN2wRfOPGg+S7epcPVuJgdWj4kZuGwAAAAAAfHb0HHlb//yP/6ptxzutNUkqWP4dff+vFikt2lo1HJ11evPln+lXO9ule57Vb/66xNjSVZzcrL976meqMR4u+uFv9KMl4a/oUcOGn+mFX1fJ2GpAUpbK/vJH+s4DWRqULJ2q0q/+6Vd684OB0kq75zv6m6cf1oyJ1ooheVX36yf13AZzH3xTP/33VcoLPIGbLDyL/cKOqE1fOFNvzE7SL5c4blBIazqhF1/eraR1R9RmrbmyPnXt26uV//tDrfSHtF8chUtm6pczp+iNL00f9SD1Rm4bAAAAAAB8RjS/qZ/8119o29kslT31I61Z8yN9+5441b319/rhP1apP7q9sh61bv+FfviXz+lX9d6rh7MD2rXtN4GQdmheNfyfn+iHv66S7vm2frRmjdb8zXdUlvWJNv/jc/rZ9kthrN/ZGv3i2b/Xmx9Iix57Vn+75m/1/eUF8u78hX7wt+vVfIWRwt6D/6q1/pAWY80Xd+qDiXatWDZfq+clWCvGgLZDWr25U1XjbHr7W9P1vLX6CyFlulavmKcVMydYK0bRjdw2AAAAAAD4DOhR1b//Sg2aoVX/z9/q+/9hkQoKFumrf71Gz96XpM73f6HyumHMg9D4tr770yrFLX9W//TfVw978F/79le1dmeSSu5bZK0J01mj8tca/KNz1/z1V7WooEAFdz+s7/+3Z/XVpE5t++U2NVtFTc3vvaq3O6VF/3WNfvT1Ei0sWKiyJ/9Wf/NYntHGV/VqeLDbr7dBf/jVejXnlqhknrUOY8YYCmo7tfHVbbr/pX2q7Tutit9VadGLW3TLi+/ryd8d0qHuPqucoaNRz75klC1v8Y9AffIfjHI/rdEu62l5O1VRXq2V/vVbNOdnVVqzw6WuoE1c2sYJa4Wl26UNRt33/6/AaxetrdHr9d3Wk0GuUkfbzmqjL06tNRfcp/SYWderjVcZJRun0vmzdei7d2pp6kjG2wfrU9eRQ1qz9n3Nsfbf/Wv3quJU0Pysl+u7Tujn5nrzGFhrBvT1qLb80jF5+F/2hW4z+Pj1uPT6um3++mf8Q5Ve3Gfuv8Bo4Sd/9r4yzP36i93aEDxn7KF9xmu36dmdQd/ohO3jGf+wQ89uCTuOw+nvUNs2hR/rX1Tr53vDygS9Nrj9c/6pWmvre6xCVzGceq7W1w/36mHz2Pxbi7Xikq7q3f42Pvn+aWsNAAAAAAAI0VGjbe8Z9wuW6ctzgicRSFPJI1/VDHVq/QcNumpUG5Wkb/7Pf9aaJ0uUdcXpBYJ0VOnVX26T7vuOVj8801oZpqNTnfMKVHZnntGiIOOzNDPfuO9sUdtAlNCgmj80S0mr9PDi4NJxylv6VZUZj2q21V2aPmGAV83/vlavNubpm//XN1U0yVqNMWNMjajtOndRFed6tfGNOj124oLmZ9u0OrpPa4+5NOdf9mpXfy528aKcZlnXcf8I1ArFqHRclMabz/Uc05qX9+r+Qz2qjZuo52baVOg7px9XH9L8Xx+Ssz/46t+GcRvgOqQnf3lIK4+d0/hkm16YPlFJXd16bGONHtsSFIIF16EJesYo57DqWPrGMV3z3M3ps/S9++1KvI6jYoZ28//g0o+7YrTUkaQXsscZKzt1/6u7tKE/JR6q734XrWNwcVAfDu7Yq/mN5zUn3abvTZD2njrt3+brrkupaeC1Hq1df0jPfyxlGMdEF87p2c17taZ8r5Zu6ZYzKkpzYqVdbrdW/m6vKs5bL74QqNfZv9x3Qj+39nFXgnEsZiZpRbxXL+419vEfWgbaN6z+hm/bFHSsT9qsY93To6e3GHVuCDqG/a89YtTb336jX51G2Sc37taLjSGp8WDB9Ywzzke7sfOsegbOqeH0NT9Zi84bbTlySrtCqnSrot64nZPunjnFWgcAAAAAAEKcalGVcTejcGZoEGqaMVsLzft9RxU+pG2QWWVaNWe4Ca2pRzW/+4W2dS7S6scXXX6qhFkPa81/X6Pv3xfeuk6dcRl3M2Yqvf/Fp9p11Axt756tmeET106eqbnmhY6MvrSGjy9rflv//JsGzfj6aj0yawTXUsJNMwanPujRSx67Dv2gRC/9xZ365X9epKrpRjPPd+uZLeGjXy9qflmxmv9zibZ8f74K1afaLU79+Jy0ouAONX+3WM+vuFOv/aBYW7Kj5DTO7Ber3NaLw7m18V2X1vZF6fkHF+ntb92pZ/6iWG//pzv0ywTp9b2N2nDGLHepjqWzcnXQaN8LZrkfzNNrxh/MrmNO/bxRSr/HqPNph1abL7Gl6rWnjTZ+M1c38Hpchk5VHOiRUxP0xl/dqxdWzDf6sEhblk3RinHROuQKG8U5bF6t6U5U83+6T7987E699N0SVc2PU3qf1zgmR9VllQo4p87seTr4faO/Rp/33jvR6HOfftzo1bPfCqzbYuyzLXajaJ9bFYcuE3QeatPzxj4uNPbxlr8yjoXRlxeeulNvZ8Yow+2W0/8V17X299Kxfu7+Yh18MvRYVxw1j2FouzZ0x+j5J632G32rmme+ofXphbrBI1wv6a9H+l7xQh00z8fHjPP5OzP1/LjAObXRHGw8nL5GZWvpTOPvoK/b6HNQ286c0EbzvJyYrNLswCoAAAAAABCqsyOQKaUnDRWVxmnSDOOu+cLVR9SOkHffv+pnGzu18OlvqyTVWjkC7e++ql81S4tWfklmE/062/2hs5ImaXBkbKzzd7FTPef8Kyzt2vybX6kh6atavTJv8IXJMCaMwaA2Rs+X5AaNKp2gu/8sU88Yj3Y1nwr9SX6KXd+bF3xKulTR3Gf0yqbvfSno7I+aqNK7U7TUePjzhhNDTz/Q7dLGDuPebtRVEDSXaVyqHvPXcU4VB82Q91Idz3wlMzCK1xQ1RSuWztKW+7NVahvtP+uROq9DLUFfm+TO0xtPL9Jz8y/7vc1VPTMvV46Bv+IoOe5z6NlYqa3ttPYGj1Q13iJW39M/sjNKidNt8s++kn6rlqb0H9QJmpMe2Nih00NMKxHkZEe3FcqabFr6aIne+Fa+Zoe8o4ywv/3HemKKVs8POn/MYz3f5g+WX6gP/VKgcIZdpQn97Tf6f0eyVhiP2jp7Lj+dxUA9qXrm3qC5kCdO1/f+w3TjXEmTIyhzvXJfo1SYm6BC49FLjZfC4a76Tv/0GqvvmC5HYBUAAAAAABiRJCWbA8pGW2+D/vXXb6oz99v65oODxvFeVfvuX+iFl2qUdN+z+vaS4WY6EzVpiKLt7/9KP/sgSQ8//TUVDIRZGGvGYFA7UXOmWw/7jUvWfJtxf6Ev9Cf5k8aFXsW/rVtVF4x7m7GNcYFVA7KtwLDTHIE5hBNuvWHet50IzAUadHu4KhACnjx/Uepwa+9l6hhvz1bp/JkqtEfqe4kkLb0zQXebI1g3Vyvjf72vJ1/bp9f3tqnrurLjOM3PDutTVKoKbzUfXAiaI8UUownh+94UF3sp1B6O2Q69aLyxtHW2acY/BuZ1/fG7jap1BXfkGvt73K2fm/e32gaFm+MzJ/rPkzbjOAcHsI6JI/lZg6X/nBqinkTHTP+5Mtt88xxWXw2zU/WYGY5/dEa1/oDXraom8+uxCVqab/6BAAAAAACAkbOmFxhVXjX8Ya3WN5vzwT58aTTsMPUcXK8X/vvbai/4pv7muyWDp2u4rB59Ev4D41Pb9Oqvq5R033f0tTuvId/ATTMGg9qhGM30t7TP//+G8CkQzE2YoKV2W+gtO8k/b+jS1BjpYlhYPMaML1ioqm/N0mszJ2pRtPS267Qe21KvpP9dpQ1B88levxhNMHbHDRM1Rd/4drGa703VM8lGRT09WlN3QvNf2xEyh+zN6+816D+nrmaYfZUytWK28fyFblWYUzP0j9hNmaLS5EAJAAAAAAAwWFJKpv++rXOIaRK9n6iz2bifl3T5OWRHyHvkD1r7WoOyln9NJfYLxkf9nsDtE+tnyec+8S97fYHFYN7G9frJX7+qhtxv6m/+2yrlhY98S0qzBiMa2/CvCGb0xR86pylpsnnfqarfrtW2zoX62n+Yq7j+dvR8YtV9Xp/4l69rhB9GyRgMas/JGZ5u9XXroPkL+agojb9Si1MnarZ57zmvk/4VQbqtdbYJQ88TmzLB/1N2TUn3zxE61G31HbbQOsJzQO85dXW71XU+wgFhara+saJYb3z/Pp38wZ3ae4c5n+w5rXz3SOh8suHNNJZDpi8Z4JXzVHjhUzr4ceDR+BsV2EZNlKP4Dr2wukRVz9ync49l67lx/XPIWmVMw+1vv/5jbbw5DnreOE/8I64TzLl1r1N/PWeN88K/Isj5Hv+50tv/PjjMvjpmJ2upcaBea3Sp68PT/pHBz+Q7QkeWAwAAAACAUKnZ/nCzufao2gNrLjlxVPuNu6RZaaMW1PacPKoG4771rb/Tk1//ur7ef/vJev/zVS9917/8hyb/4gAzpH3u2UBI+9O/GyKkNaWmaabZ0F2HdDQ8Xz17VIf2GfcLspTm/3F0u068b4bTNfrFfw1qx9e/q5/tMp9fr78zl1/apctd6Qc3zxgMar16aXfw/KB9cr7f6p+HM92eFAhJLyfKrlLzC5ILnXptd3DkaGxj9yl/qLXUcevQc3nab9VSc/T3iVa9HjIS03jttho9u2GfNrZcDK2jJriOc9r1ZrWSXt4dGiKavH2XCUBHmbtFr2/YrSfXBQWUcTYVFiQHvmnxWaOBJ8Qow7w/0aaKga9eLu3nobz04dGQkcS9+1r0c7NTExNVmBJYN5qc1Xv143+pCrqoV5TG22fqYf9Yf6MfxqEYdn/D9R/rjja9cSz4WBvHcF+3fx7k52Zew+Q03ae0a69LXf2b7K/nzKnQevpO6/V/Mc+Vff4L1A2rr/2yM/VYglR77ISebzQOQJRNS+dGaqoNAAAAAAA+I1IWquQB4/6Dcv3xYHC62a5tf3hTzZqhZXcFXWTL16nmuga1DxksXN3EOV/TmjVrBt/+Y5n/+YKv/8i/fLc/oAnwNr+pv19jhrQP62//71XKu+wsBXla+MgMqXO93q4Mjp29atj4pjYbjxaVLrSmS8jS3eFt8N9+pFXzzOfL9B1zeUXBEBcmw802BoPaODlONer+X+/Thr1H9PrvKnX/Xq/aouL0YonjKvOcxqm0JF3fMHr14rZqPVneqIr+bewz/gjHJejH91zuEnupeuyeBN3d59Vj6yq1ZssR47VHtWGD8drd3XrxxEVlpJlDR4PrqNLK39Vr495G/fzXu7Wipc/4S0zVN27v363xSjfP8nOn9PSre/Xi+yeGDg5Hiy1Jid1urT3RopWvfmi066gqquv1439r0wbj6e/lZQZGiSbYtdQMV/t6dP8vdujZDXv17C+3adFR4w/ZfH6QGC3qOaHStXv1erWxT8qr9PAWt2qN08e88NuNuIiVI0mqOHVOT5dX6sUdRj/MY1FerWfM62iNS9JSM7Efbn8HsY61LurJN3box/5jfekYpiela/X8kYafndrwuw+1aMshlZb3f9EQWo//fDTat+aX+/RYt/nFQ7pWGA0cVl8HmMsTpAs9evGMsY3sVJUONScwAAAAAAAIMlGLHn1WJUnNWv/X39Xf/3qztm1/W7/6n8/phfc7lbT0m3o491IW0LzhB/rBcz/Uk7+uGWJ6gauLS5mhgoKCwbeZgaRiUtZs/3KWf3oCQ0eVfvaTX6mmU5phn6jWnW/qzQ2ht5qgn4/PWPof9c1cqer/+6Gee+lNoy+b9epLf6f/8VqDlPttfW3g4mMTlRXeBv9ttrInmc+na6a5PCvpUkiNiBmDQe0EPf1Itu7uOa2VW1r02DGvzk2YqNceWahv2IfRXHu+XvsLu56Z2Ke1h07ofmsb45OmaO+35uvuK3w9ML5gvjYunaJvRHn1470txmuPaeVR87VJqvrGfBX2B2IDdUgbjrXp4S0n9HTHRSWlpOrgt+6QY6CZqVr9SKaemSBtbOvUs/tP6ZD1zI1h09JVs/VaZoycbaeMdh3T/TvatKYnRs/Mn60X7um/4JRZLlcvJRgP+7x68WinNvQlaePXsjQ/UCBMlFben6vV6tRjO4x9cuicKow/3xfK5uu5/Bv0Z5w7TxvLkvzH4tlqox/msTDq7fIfi3kq9O/j4fZ3sEvH+qLW+I914BjOz7Sr6i/zg47hcE2UIznwokXJ5o4NCK7Hfz4a7ftxt7R0erYOPTor8MXDsPp6SWLBFH3P/yhKz96e7X8EAAAAAACuIrVE3/8fz+qrBV5VbfiZXvjpL/TmTmnhY2v0z/9xYciI0qSMAv80CHn25Jsz0vT0CW2z5h5ofn+9fvXrXw26NZ8NPO83Pk+r/t+f6tv3xKnu3V8ZffmZ1r/bqkkPfl//9PxXR3zxMowNt3xqsB7Leey4HNOnWUs3W6def3mvHutOUNUPF/qv5N/r7lGvxinRdo1hYI9bXebPxsdPVOK4sLSrrV4rX23Thukz9elfTLdW9rPqNn+JPtRrg12pjmBGud5Ym7p27FDG3itM0JyQrpNP5Q8xEvSY1vz0qH5sLQ3l+Qfv13MF1oI5X+45s2ExSkyYEFg3FHOuVE24ctuD+ft7lW2OqmEei+H2d5BL2x8/wabx15U7G9s636fx44aatHc49YzgvAMAAAAAANfM29OjC8Z9rPH5Oy46sG4Qr1eK+wyMM+3tUY95YbDYiZr4GWguLgnPYsdwUHsj9alr124l7exRYW6u9v5Z4Mp/N0PXhx9q7RHzreAyJqZo9YPZQ1wc6pQ2bjhxxRG5sxfO11IGWAIAAAAAAABjHkHtQD3Gw6g4/XLlYq2ezshFAAAAAAAAADdPeBY7hhLKGDmmJemFmbbLXABqtFj1zE5X1TfvJqQFAAAAAAAAEHFjaEQtAAAAAAAAAHwxjOERtQAAAAAAAADwxURQCwAAAAAAAAARRlALAAAAAAAAABFGUAsAAAAAAAAAEUZQCwAAAAAAAAARRlALAAAAAAAAABFGUAsAAAAAAAAAEUZQCwAAAAAAAAARRlALAAAAAAAAABF2y6cG67Gcx47LMX2atXRzeZo267cVTmsplKP0cZXlxFtLQU7V6uU6mx5/IEdDPItgPU3a/JpbBU8VKs1aNRp2/W6LFmmmPv2L6daaS9q27FDG0WSdfCpf6da6z4S6Gt3yrlT1w4W621o1oK1eK189o5XfvFff+Ex1CgAAAAAAAGNJeBY7ZkbUxjtK9MQTT4Te/nK5itON52JjrFIAAAAAAAAA8PkzdqY+iI5TXFzoLbrDqboLxcqdFmcVuoILXnm9xs1nLQ/iCzxv3AYV8RnrL1iP+/WZ5S+V9Jmv6/M/kPt0l7yB1QH+spfZ9pCCypvbHIrZJrOM1a6B+oMN1Du8WgeEbbvfkHUYLrf+mvW41dVt3Nwhe9FwUb3dPeoNqatPvW63es2ifV7jdWHPe89dZt05a8FyvidQZ/j662Vut+ei8cBse9j2/e0Yqp+Wy7YpaD/0dOpQ4yn1Bp4AAAAAAADA59SYmfpgMLca3lmnU7Of0JLplwlq/VMfTNBD6cdU2XBRthi3XKekvAeWackMm1VI8p2uV8XmSnWMt8t2sUuui2laXFaq/CnR/uf90y6cLdBT84MmBQiZVsGjpvd+q85ppXL/qUJNHodKHytTzkSjlcertW1HkzyJiYq/6FZXTI5KHyiSfby1nTAhbYnxqKsrXjklpSrO6p+8waeOAxXaXNWuaHuixn3iVtKdpbI3vyV3wVMqTA2UCq533CcuuScVaElJsbIvdTuUNfVB7iNS7R+PKDp5nNwn3LLNL9WXF9oVZ9Tr+tNaVY9foRVzU6wXGU7XacMbbi18YrGyhzgMI5r6oO+0Nr52QKtP9WnOuCidO39RbbYpeuNb81Q4zixwTGt+2ipHyLQCnXr95b1yFt+v5wpO6MV/aFRv6X3G48B3DF07q5S067xe+LP79Eyuf1Wg3mMp6lw9W4k6p9ryGq085FX6hBhNuHBRB2Mnau2fF2vp5aYuGMHUB/66OpL1xien9OMeqfd8n5Rs19vF5/Tspm71xkoHjXVzZs7S2yuyFTgtrtamwH5InD9Br+3t1i4lDN0WAAAAAAAAfGaN2akPwvlO1KvGU6w5lwtp+zXXqGncYj3658u07JFH9WhpmlqqGuTqH2Ta49S2d5qU8qUn9OgjRpk/f1xPLLap8Z1qtYxwmGJtvVv5q57SU08FQlr5XGrY4VLaA49q1TKz/lUqyzytvUfaAy8I52tX/Y4mxRcb7TTbsmyVHv1Sipq2Nar/FT7XXm3aF62iRx/3b3P511cqt2uPqtusAgbfx7Wq2OFR3vL+Mqu1bIZbm7bUqcMqM7R6VR6yqfQbq7Rs6XI9+kSZpp4o17Ymj/FctNKyCuVpcoVso8PVJM88h6YOY1Dz1bTtaNTTbps2fuc+bXm6RFX/JV/PXTyt53d2WiWuxq7S6VF645jLWvZq7/FzSo/q00Zn/w5ya2+LVyumpyvRWOr98JC+1xytFx67T1VGnVv+yyK9ltSj1TuOBYqPhpYz6iy7Vwe/f5+an8rWii6X5lTG6qX/ZPTTWOcss6nz6AlVdAeKD69NXj3vnKDXfnC/PiWkBQAAAAAA+Nwbo0Fth+pr6pS9IE9BYzuHFp+vglmXhpHaHHnK8XTJY4Ww7tZ6NWUVKD/9UtIYlzVfhVn1ajxhBpTDl1+Yr7TgwNJ3UV5PnOLjAiNz/WHnvIe07I7LXK4rOk0FjyzX4umX2hudkKI0T4fcPeaST+2ttUpcWKScgSJxSpuTr+yBphplmvfId0dBUJloJc4pVLGvTq2nrFVDilf+7Tmy9R/1uDR/n5yHW+Q2FqPt2co/1yTX6cDT5nFwHfYoNzPNqOEKjh3VLT/dMuiWsTf0J//pJYvU/F1j35shtykqVXOmSBvOWAnmVUWpcIZNJ5tPqdZc7HNpV1ucXrwrSZ0tp+WPas+3qaIjRktnJZlLGn/HfFV9f5FW2Ps7PUGO1Di1dfYEyo+GlFStzLbmUTaO53zjuKyYmSmHda6Mn2c8bxy3LmuGg+G1KUrP3ps/sA0AAAAAAAB8vo3JoNZ7vFF1vmGMpjWl29Q/aYBfdLT8v6K3eDwuOewpCt1SnGwJ8XKeNePJ4YufENaeuGwVPDBZdb//rdaXb1f1gSa191xlvlifR+1N9dqzc7PKN5Zr/VsVclpPSeflMZqUlngpyPUbH69LawJlstLCI2yjTLJHHWevFD7blWIOMw0SlzRF9hPnFHhVmrLukOqOW+N7T7vUpAJj/10xppUys9X51J2DbgfvCD9+F9XlPKK1G3bryZe26f5/eF+LWqynhis3Sat9bu01B58eOaM3bMkqXZSsle5u7TXz3sZuvTbBWJftL23oU6+rRa+X79bTvzDq/JlR577LzBl7rSaN84/eHb7htClGGQnWQwAAAAAAAHzujcGgtkMNtfXDG007TOdHeK2tkbDNWKJH/2q5SufaZetp0bY316mi6TIBcG+LKn+3QXtcUsqMAt3zpS9r5fJSOayn+/kuXr3BwykzmE+DXmZehM16aErJzFH8QZd/KoaOE01Sjv3qxyEmVokJtkG3pFjreb8+1ZZXavaGNrUlJOkbZbP1xup7VTV4atsrG5el0vSL2ni0U06nW0nZU5QeZdfd6edU0ehV7TG35uTcOrBPu6p3a846pyqUoBWLc/Xat4pVNf86hqmGXOjs2ox6mwAAAAAAAPCZN+aCWv9oWg1zNO0w2CY75GrvCAkjzXlMO056lD8l8PN4vzNua1RpgOfslWd77ee74JNibUrJylH+XaVaWeJQ037n0HPFnj2t+skLVbIkXw57mhLj48KmFDBHxcar6aN2heSpZzsH5rDtL+M6HTavq69LHR+lKC0pZHxxmHZ1hWXIns52dcywXRqxO8WhOcn1ajnhUuuHcZrjGK24vFuHXBf12L136bn7Z6k0N1WJtpghgk+vnKeCVvZ1yxnS5jjNnzZBG1qcxq1PSx3m1bcC614zzp2qFlnrAg619siRn6tfLstV6R3pSk+YcPWwNXWCVhjnSNWhwQW7jnZrQ+xEzb7chciG4ZraBAAAAAAAgM+1MRbUmqNpnXIUjt5o2vhp+SpordTOI24r/PSqq2GPas4XKTczEAbHJ6Uppble9a1ueb1euV21qmkYxvy1Z+pV/usK1Z+xYuA+r9rb2xWfkajJgTWhoqOVcsal9v7g0eeWc39d0NQHUlruYtmPVGjzvhZ1eYy2nGpQ5e5GnbeeN6XlLFT8nypV6+qv16OWD/aocWqhcqYEVg3tvOp316rdepnvbJOqq9uVPys7aPoIm6bOTFHjzm2qn5KjqUN25FrEKDFWqjruUpc/lLyorg/36fmQqQ+mqNA48C/trlftKbe6Tp3Q66+16u2wmRcS75ii73V06lm3TYtmWetyErTo2Ck9fTFBpdY60/hxUTp44rSc/j73qffYIb1YHxrbD5I+Q89Ol57dvFuvN3ar12zv+R45q3dr5e5z+kahQ4WBktfkmtoEAAAAAACAz7UxFdQGRtMWKHfaKP4MPNau4uWLFd/4lta+/LJefvkVveOM15L7C5XSHwBOydeSRfFqemedXnnlFZUfmaCCuQOTnF5ecr5KH7TJufEVY7vGtn/5irZ15eqhhdkasgdmPfN82rPObIdxW7dNXem5oVMfTHSodEWpsj5p1M6tf9S2Q17l3FOskNZMzlPpV3PUsb2/3g2q/iRHD93jCJ2vd5A8ldwZp7oNgfrX/p89iilapuKw/W3LzFHaWbfSZmUHzY17vWxa+mCmFrUfVdKL5sXGtmn+7gl6LKRjgTKP9Z7S/H/ZraRXj+pg7jQ9Hd6phFQtMudvTU9QYf8ZnG7XSmNd+tTkS+sMhffP0o/72jTjH80635ejvEeLcq52fk3Q3Svnqyrzgp4vr9EEs70/q9aMynMqvPMOvVYSNBL7GlxbmwAAAAAAAPB5dsunBuuxnMeOyzF9mrX0+ePzeuW7JU5xIXOnBvPJ1xet6BHH1z55vT5jb15p20H6jPIXfYqOC5/64HLaVfvyW9IjT6kw1Vpl8fcp2qh3eBuyBNobHWPUP1Rfe53a/ptWZf3lEjnGW+tGTZ963T3qjZqgxIkx1rohnPdK40YxvOxxq6tvnBJtI9xmn1dd7vNS1DW89mqutU0AAAAAAAD4zAvPYsfUiNobzQxGrxykXktIa4pW3FW3HSQqUH6obNXXVqvy8kvTE5g8x51yxudrSqK1Ioi/TyMKaU1W/YP6aga4HrkO1qllXo6yRz2kNUVpvM125ZDWNJohrWmiUee1BKJRcYGLo92IMPVa2wQAAAAAAIDPnS/UiNrPBrda/lSpyv0tUqpd0Z+41BXj0OKyUuVPGXEiOzKnavXbP+xRdFaxSh8oUNpwg2cAAAAAAAAAIxKexRLUjlU+r8zZFAKjX29wQAsAAAAAAADgpvpCT33wmWLOO2tOa0BICwAAAAAAAHzuEdQCAAAAAAAAQIQR1AIAAAAAAABAhBHUAgAAAAAAAECEEdQCAAAAAAAAQIQR1AIAAAAAAABAhBHUAgAAAAAAAECEEdQCAAAAAAAAQIQR1AIAAAAAAABAhBHUAgAAAAAAAECEEdQCAAAAAAAAQIQR1AIAAAAAAABAhBHUAgAAAAAAAECEEdQCAAAAAAAAQIQR1AIAAAAAAABAhBHUAgAAAAAAAECEEdR+Dnk/blHLGa+1NHp8bpdaXG75rOUvtAtuuVpdcl+wlgEAAAAAAIDr8LkKaj1Nm/Xyy5vV1GOtuIKRlB0d7ap9+WW9vLfdWr5BfC7tfXOTNv2+3qhxNLl1ZGe5NpVXy3nT9tlV9DRps7FPNzd5rBUj4/N65b3G1NndXKnyd8pVfdyq+1TtTT6fAAAAAAAA8HnCiNrPm2i75v/ZEi35s3ylWatGh02z7i7Tki8XyTHRWvWZ1q66V17RNue1hby2GcUqKylT0bR4aw0AAAAAAABw7QhqP4fi0vOUlx5nLY2e6ESH8qYnKtpa/kKLTZQj16HEWGsZAAAAAAAAuA7RPzFYj9XV1a2kxERrKTK8Z5yq212pHTu3qvLgCZ3p8mlCSqpsYYGYt61e1ZVbtb2iUvWtPfo0MUMJ3uM64JQcBTOVHJRTjqTsIN4uOffvVmXlDm3dWa8TnT2KSc5Q8ngr4/a0qHrzDnUn3qbUkJGmHarfWKHmuExl+tO8HrV90CiXPU/zJrRp97b3tNVqz8XxCUpNHH8pNR/Y5kzFndxtlNuqijqnenxJykifpOjedtUZ/dlm7KO65jPqGZ9q1DGu/8Vq2fWudnQn67bUS6M9Pa567f7TLlW+t137nSfVdSEhsC3redOgfd8ToylpyRpvFeo4UK6Ko+OVmZWg4MMxeNuTdGuqTbG3WAWC2zShXdU7tmuHUfZAq9H2mCnKSA7q++UYfa6v3qmt2yv8bfPvi0SvjgcOomYmB7Uo+JjtbdDJTq9iJ09R0oRARzzHq/VulXEszvbI3d2hlmOHdfh80P7q88hVv1vVVZXasn2/jp7skjcuQVOMYzSwvz6uV/m2Zo2fmqkE/+Ft0wcNntDzaYjt+CZnKG0SUTcAAAAAAMAXXXgWO6aCWk9zhX5fXqPelHzNLZyn/OwkXXDVaPsHbt16W7YSYgLl3E0V2rDpiJRRoAXFczUt6YKOV32gk74+nTkTExKWjaTsIL4O1b79e33QY9ftC+bpjrxM2TxO7X7/mOJm5SjFzEa9H+tQZZ3G5S1QRkhQ69ZH79eoa1p/iGgFteN9cted1Kc587Rg7m1KjW5X3Y5KOW/J1KyMSYHA0tqmN8qrI90Jmj1vjmbGd+nQn6p1/JZYuT84Il/O7br9NocmdR/WBzWH1JeRr6k289UX9HFjperibtMCY3smc79u2NSscbctUFHhHDnSYnVy3xbt7slQfqbNX6fv41pt3PCBPrHfrgWFdyjPWN/bvFsVx+J026wUmV11n9iqmrPZKpiRPBDUmvv3D+8a2545T4Xz8zVtSpTa67Zq+9EoZc7MUCCTtNp0Pkq9de2akHe78vMdSvCcUE3NAXlT8pSdeIXw0t2kijc36YgyVLCwWHOnGedFS6U+aPOp78wZxQQHtRfaVbtxg3HMUoz9tkBzc9I0vvOodm8/LF/WLOMYRSkqdrwmJ43TxcOtumV2sebPylLGlCTZzETaPOb//q/a2jJB2XPnqeiOWUobd0aHt25TU9w05aVZYW7PR9q6u0vZd1jnz6Cg1iPn1g3a5BynvIVFmjfbobSYk6qt2K2etHxlTr5qNA0AAAAAAIDPsfAsdgylRV7jX5Icdy3XspIC5WTZZc/KUVHpEuV76tXksuYS9bnUUN0k28IyfWVJvhx2u7JzClW2skjxH7kCZfqNpOxQPnZqzymHikuKlWe2x56tvLu/rNJFdo276LUKjVCzV/aly7Tkdod/eznzy7SsNEfummo1nLHKWFqUpS+XBNrtmGv04R672mvq5DP6U5STbbzeoYIHvqLFmR7VtnVYrwrnlqupSZ75pSqba9Zp9GN6gcrKSpVrnAfn+wKlOo7vUfv0YpXcnadss0xWnoofKNVi+zj5LtfVsw2qrGhS2n3LVDY/x/86//79szLlf7JH1Q1hbWr0KO3BMhVabc8vKVXpDI/qj7To8jPF+uQ6VK2mSUUqe9A4F6YHzovCB1apKN6l0KNolK3drD0KKmvWs+QrRvt82rOjXmaLoiemGOtTZDMej0tMC+yTRCut7/UqLsXYP8sfUnFuYH85bl+iEnPf72/1v35Y3C41HfGo8EtlKvC3I3AMy0pzlRh13ioEAAAAAAAABIyhoDZOiTMKtXhuWugcqLGTlZgpNXW5/Yu+ky2q9TiUnxtezq6cuSnWQsBIyg4pOkbxcqvTHZxUxsl+e4Eclx2GexVz5mjGZOuxxZaTr/z4djlPBfrYL2f6VKO2S+LizHGtaUpJCu5NolLSjbsz7suEndGKNgebdnXKbYWyflNyVJRrV7x1BkTHxEtuo0xwV8fblT/Xof4MM5zb1aSW+CIVzDIjzyDxDuUa+7f9sCs02JyTq+yQojalTXNIzW5jL1+Gr10t+zxy3J6rtP5hvH7RsucUKOQoWmULFhYMKpt22xzZTzfJddpadTkTjT7fUyxHWJdstiTJ06GuHmvF1UQb+9246+oO7VlKTpHy7FyADAAAAAAAAKHG3O+vfT0dammqV11NpTZvLNdb/2e9Kk9YTxrO95rBV4psIdMMBCQl2a1HASMpO6Rbc7Q497xqy1/Ruj9sV/WBJrm6vPJZT1+LlIT4kPA1wCZbuuTyhEat4+JC4uVrFK/s/CLZ27Zr3evrtWnnHjUc65D7gvW0JWXmYuVdqFX5K+v01rZq1Te51NV75Z56PC4p3Wi7tRws5dYs6bRRT3CX4scN6nv0wDy2l9Hr8Ye4KZOHCDcTUxRyFK2yzpp3VG6cOyG37XXqUod8wzl4fV51nXKqYX+dqrcZry1fr3Xv1FtPDlN8tvLvtKt92zr99vebVFnTIOdpt3zBYTkAAAAAAABgGUNBrU/t+8q17rUNqjxwWp5Ym+y3Faj4oRVaMsMqctPZ5ChZpccfKVVBhtTRtEfl61/RuvJqtYQOlBy2uNj+i34N4QaFeNGphVr256v0UJFDNvNCZDs3aN2v12nzgY5LobPNoSV/8biWlxYoTR1qqinX+t+sU/mulsuPdr2SKHNCYZ98nwYWb6aklGxlTw27ZeWp4K5iTRlvFboct1PbjWO8/o97dMx9XvGJOcqfX6oVSwutAsMVrbR5y7Rq1UNaON0mT1udKt9Yp7XrN6v+9PVE/QAAAAAAAPg8GjtBradF9btdSrvvUT36yBIVzy1Qfk620hLHKSY4wIwyR5l6dH6IeVM9n4TNIDqSspcVrfjUHOXftUTLHnlUTz3+kHLO12nTQVfIyNqLwwxZXd3uIUbkeuTpluJjRmME7WWMT1R2bpEWP7BMqx5/QqvuSZGzqlpHzlrPm6LjlZaTr+KSZVr+9af0+IM58n64SfUnhg4Wo2NTpG6j7dZyMHe3uX8ThxzNPCK3BKYQ8Jwb4iD2nA2dWiE2Tua428Tp+Sowzp+hbtlh006E6zhaqYbYQi3/2io9dE+R8Zo8OewpxrGxCoxQXGK28hYuVtmyVXr8iVVanOJU5Z+OXFv4DQAAAAAAgM+tsRPUfurzB5gpCWE/pO9pl/OY9dgQn2JXturVeDw86uqQsyH00lIjKTsU7+km1R9whQaR8VOVnWncuz3yXxJqok3mtdla20ODX19bi5zW4xBHnPqo13ps8bU51XQ6XrmpSdaaUeTzyNW4x9i+tewXp8TMLNnl0jl/W7zqaKpXff8F2yzxmdn+qQXcvUNf/CrFnqMUYx8528KDXLc+anIqft7U0Dlkr0V8iuxZ8l9wbNBRPN4YejGxuHTZc6WmYx8ZPQrT1aL6pnZ5wpp6/mLoCl+fsQ8SkmQLmePWp3ZXq/V4eHw9LjXUNIUGyXGJxrlj7NET54YMtwEAAAAAAPDFNXaC2omJSpsi1dfXq93tldfrled0kyrfr5fHWD9g8iwtvDNNzvcrVNnUIY9RzutuV/22CnUkOKxClpGUHcon7aqtqlD1gXa5zdd6Pepoqtae/ZJjut0/elNK0dR58er402Zt3u+Uy+WS88B2vVN32no+lH3qedW9t0fOLo+/j25XrTa/VyvPrMXKt9+AEbXRRpsP1apix6U6vW6XanfVyDWlSHZr33raalVZUa36U+5AGU+Hmv60R3VyyJFxmYtfTcnTwjke1b63WbUu63X+/Vuu7adzVDzb7h8Ne31smrWwSGnNFaqoalKHxzwObrUb+7iiw2a0LlicHLcXy3Zwk96pahg4j9ynGlS5dZNqW93yDTQoSVPmSK6GOjW0uoyygcA2KTlPaq5X/bGuwPli1OXat1l7WkbWk+jeDjXuNc673U51+dscONaVNS6lLLRff4ANAAAAAACAz5Xonxisx+rq6lZSojk+NBLilWJPUO/RGm3ftUf79u1T3UfSbSWLlNFZL+eEPC3ImGSUi1J8+gxlxri0b+cu1Rjl9h1o1S23lanUcVG1DR45CmYq2X/VqpGUHSw6caqyE3p1tGa7du0xXruvTofaLyijaKmW5CVYIWSUbKnZmtjr1JH9B1V/+LA+js3RPffm6NP9jfI4CjQz2Rye2aO2Dxrlnfeg7slo1573NmuHsc0Dh7s0Me9ePVA8U7b+LPDCGTV/6FR83gJlBE0dcOFMs+qcGtTmnpMfqPGcQwUzkhWrCzrTXBe0v+KVNj1TsW0faPvOGv9+3XfgsNyTZ6vkviJl+udsjVZCRrYSeo+qZvsu7THL1B1S+8UM3fnQEuUlBhoWWo/JeF12njI/bdGe93dot3/bjeqKz1PJl+/VzIHB0eFtuiTQp3jlLchQ6DOXRE3M0IypsXLt32EdhwNqjcpRWYlDF/cF72NDfJpmzUxQd+PugfPoQMPHip1h7uMcJQzkrUbbk27Vhdb92l1br8boqZqXaVNsYob/fPlge2XgfNnXrE+SF6rkjjgdaAw6X3ra9EHw+RO+bLTD3+ba7ar0t9k81m4lzCnRlxZkavzVLqIGAAAAAACAz7XwLPaWTw3WYzmPHZdj+jRrKXJ8Xq9/GoTouLgrj8js88lr/nQ9Ok5xVyxoGEnZQYzXegMjLq/YJrOOT6OHt/3ras81uuA12mfc32LUGfLT/iA+o4y/q0Y/RtKw/v5cadujIHBuDLNtVn+jY4xjdqWx40Y5X2zYce3fD6PQn4Hz+WrtAAAAAAAAwBdGeBY7JoNaAAAAAAAAAPg8C89iGd8HAAAAAAAAABFGUAsAAAAAAAAAEUZQCwAAAAAAAAARRlALAAAAAAAAABFGUAsAAAAAAAAAEUZQCwAAAAAAAAARRlALAAAAAAAAABFGUAsAAAAAAAAAEUZQCwAAAAAAAAARRlALAAAAAAAAABFGUAsAAAAAAAAAEUZQCwAAAAAAAAARRlALAAAAAAAAABFGUAsAAAAAAAAAEUZQCwAAAAAAAAARRlALAAAAAAAAABFGUAsAAAAAAAAAEUZQCwAAAAAAAAARRlALAAAAAAAAABF2y6cG67Gcx44rK3OqtQQAAAAAAAAAGG0xMTH+LNYxfZq1ZoigNjEhwVoCAAAAAAAAAIy2pKTEqwe1wU8CAAAAAAAAAEZfeBbLHLUAAAAAAAAAEGEEtQAAAAAAAAAQUdL/D9lh0y+CbbXuAAAAAElFTkSuQmCC)"
      ],
      "metadata": {
        "id": "_mPalGpE-rjl"
      }
    },
    {
      "cell_type": "markdown",
      "source": [
        "# **Ethic Discussion**"
      ],
      "metadata": {
        "id": "cvglcNMTA6-q"
      }
    },
    {
      "cell_type": "markdown",
      "source": [
        "The dataset was created by Dean De Cock and is available to the general public. For the purpose of learning more about data science, it is accessible on Kaggle.\n",
        "\n",
        "- Looking over the dataset, it does not include any details about the residents of the house.\n",
        "\n",
        "- Although the method of data compilation is not specified, a trustworthy source did it.\n",
        "\n",
        "- The real estate market may be impacted by predictions of home prices, and erroneous information may cause false price spikes that may be harmful. \n",
        "\n",
        "\n"
      ],
      "metadata": {
        "id": "ZMqNWLztBi2S"
      }
    },
    {
      "cell_type": "markdown",
      "source": [
        "# **Detailed Result**"
      ],
      "metadata": {
        "id": "mV92heqRDll5"
      }
    },
    {
      "cell_type": "markdown",
      "source": [
        "## **Importing libraries and loading datasets**"
      ],
      "metadata": {
        "id": "pR2PhSKlPzPb"
      }
    },
    {
      "cell_type": "code",
      "source": [
        "import numpy as np\n",
        "import pandas as pd\n",
        "from sklearn import metrics\n",
        "import seaborn as sns\n",
        "import matplotlib.pyplot as plt\n",
        "from sklearn.linear_model import LinearRegression\n",
        "from scipy import stats\n",
        "import statsmodels.api as sm\n",
        "from scipy.stats import norm, skew #for some statistics\n",
        "from sklearn.model_selection import KFold, cross_val_score #for cross validation\n",
        "pd.set_option('display.min_rows', 4)"
      ],
      "metadata": {
        "id": "ZTzHVFj1DuMz"
      },
      "execution_count": null,
      "outputs": []
    },
    {
      "cell_type": "code",
      "source": [
        "#load the train and test dataset\n",
        "train_dataset = pd.read_csv(\"train.csv\")\n",
        "true_test_dataset = pd.read_csv(\"test.csv\")\n",
        "\n",
        "#check the numbers of samples and features\n",
        "print(\"The train data size: {} \".format(train_dataset.shape))\n",
        "print(\"The test data size: {} \".format(true_test_dataset.shape))"
      ],
      "metadata": {
        "id": "u_LmZHOvM2Vp",
        "outputId": "da6f1d80-c47d-46d7-bf10-e1d3aea2fd44",
        "colab": {
          "base_uri": "https://localhost:8080/"
        }
      },
      "execution_count": null,
      "outputs": [
        {
          "output_type": "stream",
          "name": "stdout",
          "text": [
            "The train data size: (1460, 81) \n",
            "The test data size: (1459, 80) \n"
          ]
        }
      ]
    },
    {
      "cell_type": "code",
      "source": [
        "display(train_dataset)"
      ],
      "metadata": {
        "colab": {
          "base_uri": "https://localhost:8080/",
          "height": 299
        },
        "id": "carUO0HJM2c3",
        "outputId": "eea86f69-f5b9-4eed-ba05-664e05ecb601",
        "collapsed": true
      },
      "execution_count": null,
      "outputs": [
        {
          "output_type": "display_data",
          "data": {
            "text/plain": [
              "        Id  MSSubClass MSZoning  LotFrontage  LotArea Street Alley LotShape  \\\n",
              "0        1          60       RL         65.0     8450   Pave   NaN      Reg   \n",
              "1        2          20       RL         80.0     9600   Pave   NaN      Reg   \n",
              "...    ...         ...      ...          ...      ...    ...   ...      ...   \n",
              "1458  1459          20       RL         68.0     9717   Pave   NaN      Reg   \n",
              "1459  1460          20       RL         75.0     9937   Pave   NaN      Reg   \n",
              "\n",
              "     LandContour Utilities  ... PoolArea PoolQC Fence MiscFeature MiscVal  \\\n",
              "0            Lvl    AllPub  ...        0    NaN   NaN         NaN       0   \n",
              "1            Lvl    AllPub  ...        0    NaN   NaN         NaN       0   \n",
              "...          ...       ...  ...      ...    ...   ...         ...     ...   \n",
              "1458         Lvl    AllPub  ...        0    NaN   NaN         NaN       0   \n",
              "1459         Lvl    AllPub  ...        0    NaN   NaN         NaN       0   \n",
              "\n",
              "     MoSold YrSold  SaleType  SaleCondition  SalePrice  \n",
              "0         2   2008        WD         Normal     208500  \n",
              "1         5   2007        WD         Normal     181500  \n",
              "...     ...    ...       ...            ...        ...  \n",
              "1458      4   2010        WD         Normal     142125  \n",
              "1459      6   2008        WD         Normal     147500  \n",
              "\n",
              "[1460 rows x 81 columns]"
            ],
            "text/html": [
              "\n",
              "  <div id=\"df-0b6b8729-ad7d-4b6d-8d68-00e96e9c8e4e\">\n",
              "    <div class=\"colab-df-container\">\n",
              "      <div>\n",
              "<style scoped>\n",
              "    .dataframe tbody tr th:only-of-type {\n",
              "        vertical-align: middle;\n",
              "    }\n",
              "\n",
              "    .dataframe tbody tr th {\n",
              "        vertical-align: top;\n",
              "    }\n",
              "\n",
              "    .dataframe thead th {\n",
              "        text-align: right;\n",
              "    }\n",
              "</style>\n",
              "<table border=\"1\" class=\"dataframe\">\n",
              "  <thead>\n",
              "    <tr style=\"text-align: right;\">\n",
              "      <th></th>\n",
              "      <th>Id</th>\n",
              "      <th>MSSubClass</th>\n",
              "      <th>MSZoning</th>\n",
              "      <th>LotFrontage</th>\n",
              "      <th>LotArea</th>\n",
              "      <th>Street</th>\n",
              "      <th>Alley</th>\n",
              "      <th>LotShape</th>\n",
              "      <th>LandContour</th>\n",
              "      <th>Utilities</th>\n",
              "      <th>...</th>\n",
              "      <th>PoolArea</th>\n",
              "      <th>PoolQC</th>\n",
              "      <th>Fence</th>\n",
              "      <th>MiscFeature</th>\n",
              "      <th>MiscVal</th>\n",
              "      <th>MoSold</th>\n",
              "      <th>YrSold</th>\n",
              "      <th>SaleType</th>\n",
              "      <th>SaleCondition</th>\n",
              "      <th>SalePrice</th>\n",
              "    </tr>\n",
              "  </thead>\n",
              "  <tbody>\n",
              "    <tr>\n",
              "      <th>0</th>\n",
              "      <td>1</td>\n",
              "      <td>60</td>\n",
              "      <td>RL</td>\n",
              "      <td>65.0</td>\n",
              "      <td>8450</td>\n",
              "      <td>Pave</td>\n",
              "      <td>NaN</td>\n",
              "      <td>Reg</td>\n",
              "      <td>Lvl</td>\n",
              "      <td>AllPub</td>\n",
              "      <td>...</td>\n",
              "      <td>0</td>\n",
              "      <td>NaN</td>\n",
              "      <td>NaN</td>\n",
              "      <td>NaN</td>\n",
              "      <td>0</td>\n",
              "      <td>2</td>\n",
              "      <td>2008</td>\n",
              "      <td>WD</td>\n",
              "      <td>Normal</td>\n",
              "      <td>208500</td>\n",
              "    </tr>\n",
              "    <tr>\n",
              "      <th>1</th>\n",
              "      <td>2</td>\n",
              "      <td>20</td>\n",
              "      <td>RL</td>\n",
              "      <td>80.0</td>\n",
              "      <td>9600</td>\n",
              "      <td>Pave</td>\n",
              "      <td>NaN</td>\n",
              "      <td>Reg</td>\n",
              "      <td>Lvl</td>\n",
              "      <td>AllPub</td>\n",
              "      <td>...</td>\n",
              "      <td>0</td>\n",
              "      <td>NaN</td>\n",
              "      <td>NaN</td>\n",
              "      <td>NaN</td>\n",
              "      <td>0</td>\n",
              "      <td>5</td>\n",
              "      <td>2007</td>\n",
              "      <td>WD</td>\n",
              "      <td>Normal</td>\n",
              "      <td>181500</td>\n",
              "    </tr>\n",
              "    <tr>\n",
              "      <th>...</th>\n",
              "      <td>...</td>\n",
              "      <td>...</td>\n",
              "      <td>...</td>\n",
              "      <td>...</td>\n",
              "      <td>...</td>\n",
              "      <td>...</td>\n",
              "      <td>...</td>\n",
              "      <td>...</td>\n",
              "      <td>...</td>\n",
              "      <td>...</td>\n",
              "      <td>...</td>\n",
              "      <td>...</td>\n",
              "      <td>...</td>\n",
              "      <td>...</td>\n",
              "      <td>...</td>\n",
              "      <td>...</td>\n",
              "      <td>...</td>\n",
              "      <td>...</td>\n",
              "      <td>...</td>\n",
              "      <td>...</td>\n",
              "      <td>...</td>\n",
              "    </tr>\n",
              "    <tr>\n",
              "      <th>1458</th>\n",
              "      <td>1459</td>\n",
              "      <td>20</td>\n",
              "      <td>RL</td>\n",
              "      <td>68.0</td>\n",
              "      <td>9717</td>\n",
              "      <td>Pave</td>\n",
              "      <td>NaN</td>\n",
              "      <td>Reg</td>\n",
              "      <td>Lvl</td>\n",
              "      <td>AllPub</td>\n",
              "      <td>...</td>\n",
              "      <td>0</td>\n",
              "      <td>NaN</td>\n",
              "      <td>NaN</td>\n",
              "      <td>NaN</td>\n",
              "      <td>0</td>\n",
              "      <td>4</td>\n",
              "      <td>2010</td>\n",
              "      <td>WD</td>\n",
              "      <td>Normal</td>\n",
              "      <td>142125</td>\n",
              "    </tr>\n",
              "    <tr>\n",
              "      <th>1459</th>\n",
              "      <td>1460</td>\n",
              "      <td>20</td>\n",
              "      <td>RL</td>\n",
              "      <td>75.0</td>\n",
              "      <td>9937</td>\n",
              "      <td>Pave</td>\n",
              "      <td>NaN</td>\n",
              "      <td>Reg</td>\n",
              "      <td>Lvl</td>\n",
              "      <td>AllPub</td>\n",
              "      <td>...</td>\n",
              "      <td>0</td>\n",
              "      <td>NaN</td>\n",
              "      <td>NaN</td>\n",
              "      <td>NaN</td>\n",
              "      <td>0</td>\n",
              "      <td>6</td>\n",
              "      <td>2008</td>\n",
              "      <td>WD</td>\n",
              "      <td>Normal</td>\n",
              "      <td>147500</td>\n",
              "    </tr>\n",
              "  </tbody>\n",
              "</table>\n",
              "<p>1460 rows × 81 columns</p>\n",
              "</div>\n",
              "      <button class=\"colab-df-convert\" onclick=\"convertToInteractive('df-0b6b8729-ad7d-4b6d-8d68-00e96e9c8e4e')\"\n",
              "              title=\"Convert this dataframe to an interactive table.\"\n",
              "              style=\"display:none;\">\n",
              "        \n",
              "  <svg xmlns=\"http://www.w3.org/2000/svg\" height=\"24px\"viewBox=\"0 0 24 24\"\n",
              "       width=\"24px\">\n",
              "    <path d=\"M0 0h24v24H0V0z\" fill=\"none\"/>\n",
              "    <path d=\"M18.56 5.44l.94 2.06.94-2.06 2.06-.94-2.06-.94-.94-2.06-.94 2.06-2.06.94zm-11 1L8.5 8.5l.94-2.06 2.06-.94-2.06-.94L8.5 2.5l-.94 2.06-2.06.94zm10 10l.94 2.06.94-2.06 2.06-.94-2.06-.94-.94-2.06-.94 2.06-2.06.94z\"/><path d=\"M17.41 7.96l-1.37-1.37c-.4-.4-.92-.59-1.43-.59-.52 0-1.04.2-1.43.59L10.3 9.45l-7.72 7.72c-.78.78-.78 2.05 0 2.83L4 21.41c.39.39.9.59 1.41.59.51 0 1.02-.2 1.41-.59l7.78-7.78 2.81-2.81c.8-.78.8-2.07 0-2.86zM5.41 20L4 18.59l7.72-7.72 1.47 1.35L5.41 20z\"/>\n",
              "  </svg>\n",
              "      </button>\n",
              "      \n",
              "  <style>\n",
              "    .colab-df-container {\n",
              "      display:flex;\n",
              "      flex-wrap:wrap;\n",
              "      gap: 12px;\n",
              "    }\n",
              "\n",
              "    .colab-df-convert {\n",
              "      background-color: #E8F0FE;\n",
              "      border: none;\n",
              "      border-radius: 50%;\n",
              "      cursor: pointer;\n",
              "      display: none;\n",
              "      fill: #1967D2;\n",
              "      height: 32px;\n",
              "      padding: 0 0 0 0;\n",
              "      width: 32px;\n",
              "    }\n",
              "\n",
              "    .colab-df-convert:hover {\n",
              "      background-color: #E2EBFA;\n",
              "      box-shadow: 0px 1px 2px rgba(60, 64, 67, 0.3), 0px 1px 3px 1px rgba(60, 64, 67, 0.15);\n",
              "      fill: #174EA6;\n",
              "    }\n",
              "\n",
              "    [theme=dark] .colab-df-convert {\n",
              "      background-color: #3B4455;\n",
              "      fill: #D2E3FC;\n",
              "    }\n",
              "\n",
              "    [theme=dark] .colab-df-convert:hover {\n",
              "      background-color: #434B5C;\n",
              "      box-shadow: 0px 1px 3px 1px rgba(0, 0, 0, 0.15);\n",
              "      filter: drop-shadow(0px 1px 2px rgba(0, 0, 0, 0.3));\n",
              "      fill: #FFFFFF;\n",
              "    }\n",
              "  </style>\n",
              "\n",
              "      <script>\n",
              "        const buttonEl =\n",
              "          document.querySelector('#df-0b6b8729-ad7d-4b6d-8d68-00e96e9c8e4e button.colab-df-convert');\n",
              "        buttonEl.style.display =\n",
              "          google.colab.kernel.accessAllowed ? 'block' : 'none';\n",
              "\n",
              "        async function convertToInteractive(key) {\n",
              "          const element = document.querySelector('#df-0b6b8729-ad7d-4b6d-8d68-00e96e9c8e4e');\n",
              "          const dataTable =\n",
              "            await google.colab.kernel.invokeFunction('convertToInteractive',\n",
              "                                                     [key], {});\n",
              "          if (!dataTable) return;\n",
              "\n",
              "          const docLinkHtml = 'Like what you see? Visit the ' +\n",
              "            '<a target=\"_blank\" href=https://colab.research.google.com/notebooks/data_table.ipynb>data table notebook</a>'\n",
              "            + ' to learn more about interactive tables.';\n",
              "          element.innerHTML = '';\n",
              "          dataTable['output_type'] = 'display_data';\n",
              "          await google.colab.output.renderOutput(dataTable, element);\n",
              "          const docLink = document.createElement('div');\n",
              "          docLink.innerHTML = docLinkHtml;\n",
              "          element.appendChild(docLink);\n",
              "        }\n",
              "      </script>\n",
              "    </div>\n",
              "  </div>\n",
              "  "
            ]
          },
          "metadata": {}
        }
      ]
    },
    {
      "cell_type": "code",
      "source": [
        "# combine both testing and training dataset for transformation\n",
        "whole_dataset = pd.concat((train_dataset, true_test_dataset)).reset_index(drop = True)\n",
        "\n",
        "print(\"\\nThe whole data size before dropping Id feature is : {} \".format(whole_dataset.shape)) \n",
        "#Now drop the  'Id' colum since it's unnecessary for  the prediction process.\n",
        "whole_dataset.drop(\"Id\", axis = 1, inplace = True)\n",
        "\n",
        "#check again the data size after dropping the 'Id' variable\n",
        "print(\"\\nThe whole data size after dropping Id feature is : {} \".format(whole_dataset.shape)) \n"
      ],
      "metadata": {
        "id": "dqawWYFtM2aC",
        "outputId": "9dca584e-a081-4a11-9ec5-d1c797110805",
        "colab": {
          "base_uri": "https://localhost:8080/"
        }
      },
      "execution_count": null,
      "outputs": [
        {
          "output_type": "stream",
          "name": "stdout",
          "text": [
            "\n",
            "The whole data size before dropping Id feature is : (2919, 81) \n",
            "\n",
            "The whole data size after dropping Id feature is : (2919, 80) \n"
          ]
        }
      ]
    },
    {
      "cell_type": "markdown",
      "source": [
        "## **Data Preprocessing**"
      ],
      "metadata": {
        "id": "Y7mYZnlLvLsv"
      }
    },
    {
      "cell_type": "markdown",
      "source": [
        "We are trying to predict the sale price of each house. We will do some analysis on this first. \n",
        "\n",
        "Using a histogram and q-q plot, we check how the data in Sale price is distributed."
      ],
      "metadata": {
        "id": "od9XleypWJRu"
      }
    },
    {
      "cell_type": "code",
      "source": [
        "# checking the distribution for the target\n",
        "sns.displot(train_dataset['SalePrice'], height=3, aspect=2)\n",
        "\n",
        "\n",
        "#Get also the QQ-plot\n",
        "fig = plt.figure()\n",
        "res = stats.probplot(train_dataset['SalePrice'], plot=plt)\n",
        "plt.show()"
      ],
      "metadata": {
        "colab": {
          "base_uri": "https://localhost:8080/",
          "height": 503
        },
        "id": "3qmAasRpM2fF",
        "outputId": "b649e212-c436-418b-80bb-8a6a26f6b0d2"
      },
      "execution_count": null,
      "outputs": [
        {
          "output_type": "display_data",
          "data": {
            "text/plain": [
              "<Figure size 432x216 with 1 Axes>"
            ],
            "image/png": "[encoded data removed]"
          },
          "metadata": {
            "needs_background": "light"
          }
        },
        {
          "output_type": "display_data",
          "data": {
            "text/plain": [
              "<Figure size 432x288 with 1 Axes>"
            ],
            "image/png": "[encoded data removed]"
          },
          "metadata": {
            "needs_background": "light"
          }
        }
      ]
    },
    {
      "cell_type": "markdown",
      "source": [
        "The target variable is has positive skew. This is not good for our linear model. Linear models like normally distributed data. We need to transform the sale price column."
      ],
      "metadata": {
        "id": "P-R7S5XcOihC"
      }
    },
    {
      "cell_type": "markdown",
      "source": [
        "**Log Transformation of Target Variable**"
      ],
      "metadata": {
        "id": "1z29kLD5ZcTM"
      }
    },
    {
      "cell_type": "code",
      "source": [
        "#We use the numpy fuction log1p which  applies log(1+x) to all elements of the column\n",
        "train_dataset[\"SalePrice\"] = np.log1p(train_dataset[\"SalePrice\"])\n",
        "\n",
        "#Check the new distribution \n",
        "sns.distplot(train_dataset['SalePrice']);\n",
        "\n",
        "#Get also the QQ-plot\n",
        "fig = plt.figure()\n",
        "res = stats.probplot(train_dataset['SalePrice'], plot=plt)\n",
        "plt.show()"
      ],
      "metadata": {
        "colab": {
          "base_uri": "https://localhost:8080/",
          "height": 612
        },
        "id": "Du5okI76M2ha",
        "outputId": "2f02f57e-fd98-4875-b339-a8967b074104"
      },
      "execution_count": null,
      "outputs": [
        {
          "output_type": "stream",
          "name": "stderr",
          "text": [
            "/usr/local/lib/python3.7/dist-packages/seaborn/distributions.py:2619: FutureWarning: `distplot` is a deprecated function and will be removed in a future version. Please adapt your code to use either `displot` (a figure-level function with similar flexibility) or `histplot` (an axes-level function for histograms).\n",
            "  warnings.warn(msg, FutureWarning)\n"
          ]
        },
        {
          "output_type": "display_data",
          "data": {
            "text/plain": [
              "<Figure size 432x288 with 1 Axes>"
            ],
            "image/png": "[encoded data removed]"
          },
          "metadata": {
            "needs_background": "light"
          }
        },
        {
          "output_type": "display_data",
          "data": {
            "text/plain": [
              "<Figure size 432x288 with 1 Axes>"
            ],
            "image/png": "[encoded data removed]"
          },
          "metadata": {
            "needs_background": "light"
          }
        }
      ]
    },
    {
      "cell_type": "markdown",
      "source": [
        "The data now looks better i.e. it looks normally distributed."
      ],
      "metadata": {
        "id": "nFmqEOVfPZSN"
      }
    },
    {
      "cell_type": "markdown",
      "source": [
        "### **Handling missing data**\n"
      ],
      "metadata": {
        "id": "c4CSdM5YP_BN"
      }
    },
    {
      "cell_type": "markdown",
      "source": [
        "Remember we concatenated the train and test data set to a dataframe called \"whole_dataset\". We will use that for our data cleaning so both datasets can be the same when modelling."
      ],
      "metadata": {
        "id": "WlTih9P-QJM1"
      }
    },
    {
      "cell_type": "code",
      "source": [
        "# this function will go through the data frame and return information on columns with missing values such as the number of missing data in\n",
        "# each column and the percentage of missing value overall for each column\n",
        "def info_on_missing_values(df):\n",
        "    total_missing_values = df.isnull().sum().sort_values(ascending = False)[df.isnull().sum().sort_values(ascending = False) != 0]\n",
        "    percentage = round(df.isnull().sum().sort_values(ascending = False)/len(df)*100,2)[round(df.isnull().sum().sort_values(ascending = False)/len(df)*100,2) != 0]\n",
        "    data_type = df.dtypes.sort_values(ascending = False)[df.isnull().sum().sort_values(ascending = False) != 0]\n",
        "    decription_of_missing_values = pd.concat([total_missing_values, percentage, data_type], axis=1, keys=['Total Missing Val','Percentage','Data Type'])\n",
        "    return decription_of_missing_values\n",
        "\n",
        "info_on_missing_values(whole_dataset)[:10] #### remove [:10] to see all columns with missing values"
      ],
      "metadata": {
        "colab": {
          "base_uri": "https://localhost:8080/",
          "height": 363
        },
        "id": "KraYFb2tM2mJ",
        "outputId": "945965cb-24de-46f0-b731-27828596d218"
      },
      "execution_count": null,
      "outputs": [
        {
          "output_type": "execute_result",
          "data": {
            "text/plain": [
              "              Total Missing Val  Percentage Data Type\n",
              "PoolQC                     2909       99.66    object\n",
              "MiscFeature                2814       96.40    object\n",
              "Alley                      2721       93.22    object\n",
              "Fence                      2348       80.44    object\n",
              "SalePrice                  1459       49.98   float64\n",
              "FireplaceQu                1420       48.65    object\n",
              "LotFrontage                 486       16.65   float64\n",
              "GarageCond                  159        5.45    object\n",
              "GarageFinish                159        5.45    object\n",
              "GarageQual                  159        5.45    object"
            ],
            "text/html": [
              "\n",
              "  <div id=\"df-c3b5fa3f-fc77-4275-ac4a-0952541e6900\">\n",
              "    <div class=\"colab-df-container\">\n",
              "      <div>\n",
              "<style scoped>\n",
              "    .dataframe tbody tr th:only-of-type {\n",
              "        vertical-align: middle;\n",
              "    }\n",
              "\n",
              "    .dataframe tbody tr th {\n",
              "        vertical-align: top;\n",
              "    }\n",
              "\n",
              "    .dataframe thead th {\n",
              "        text-align: right;\n",
              "    }\n",
              "</style>\n",
              "<table border=\"1\" class=\"dataframe\">\n",
              "  <thead>\n",
              "    <tr style=\"text-align: right;\">\n",
              "      <th></th>\n",
              "      <th>Total Missing Val</th>\n",
              "      <th>Percentage</th>\n",
              "      <th>Data Type</th>\n",
              "    </tr>\n",
              "  </thead>\n",
              "  <tbody>\n",
              "    <tr>\n",
              "      <th>PoolQC</th>\n",
              "      <td>2909</td>\n",
              "      <td>99.66</td>\n",
              "      <td>object</td>\n",
              "    </tr>\n",
              "    <tr>\n",
              "      <th>MiscFeature</th>\n",
              "      <td>2814</td>\n",
              "      <td>96.40</td>\n",
              "      <td>object</td>\n",
              "    </tr>\n",
              "    <tr>\n",
              "      <th>Alley</th>\n",
              "      <td>2721</td>\n",
              "      <td>93.22</td>\n",
              "      <td>object</td>\n",
              "    </tr>\n",
              "    <tr>\n",
              "      <th>Fence</th>\n",
              "      <td>2348</td>\n",
              "      <td>80.44</td>\n",
              "      <td>object</td>\n",
              "    </tr>\n",
              "    <tr>\n",
              "      <th>SalePrice</th>\n",
              "      <td>1459</td>\n",
              "      <td>49.98</td>\n",
              "      <td>float64</td>\n",
              "    </tr>\n",
              "    <tr>\n",
              "      <th>FireplaceQu</th>\n",
              "      <td>1420</td>\n",
              "      <td>48.65</td>\n",
              "      <td>object</td>\n",
              "    </tr>\n",
              "    <tr>\n",
              "      <th>LotFrontage</th>\n",
              "      <td>486</td>\n",
              "      <td>16.65</td>\n",
              "      <td>float64</td>\n",
              "    </tr>\n",
              "    <tr>\n",
              "      <th>GarageCond</th>\n",
              "      <td>159</td>\n",
              "      <td>5.45</td>\n",
              "      <td>object</td>\n",
              "    </tr>\n",
              "    <tr>\n",
              "      <th>GarageFinish</th>\n",
              "      <td>159</td>\n",
              "      <td>5.45</td>\n",
              "      <td>object</td>\n",
              "    </tr>\n",
              "    <tr>\n",
              "      <th>GarageQual</th>\n",
              "      <td>159</td>\n",
              "      <td>5.45</td>\n",
              "      <td>object</td>\n",
              "    </tr>\n",
              "  </tbody>\n",
              "</table>\n",
              "</div>\n",
              "      <button class=\"colab-df-convert\" onclick=\"convertToInteractive('df-c3b5fa3f-fc77-4275-ac4a-0952541e6900')\"\n",
              "              title=\"Convert this dataframe to an interactive table.\"\n",
              "              style=\"display:none;\">\n",
              "        \n",
              "  <svg xmlns=\"http://www.w3.org/2000/svg\" height=\"24px\"viewBox=\"0 0 24 24\"\n",
              "       width=\"24px\">\n",
              "    <path d=\"M0 0h24v24H0V0z\" fill=\"none\"/>\n",
              "    <path d=\"M18.56 5.44l.94 2.06.94-2.06 2.06-.94-2.06-.94-.94-2.06-.94 2.06-2.06.94zm-11 1L8.5 8.5l.94-2.06 2.06-.94-2.06-.94L8.5 2.5l-.94 2.06-2.06.94zm10 10l.94 2.06.94-2.06 2.06-.94-2.06-.94-.94-2.06-.94 2.06-2.06.94z\"/><path d=\"M17.41 7.96l-1.37-1.37c-.4-.4-.92-.59-1.43-.59-.52 0-1.04.2-1.43.59L10.3 9.45l-7.72 7.72c-.78.78-.78 2.05 0 2.83L4 21.41c.39.39.9.59 1.41.59.51 0 1.02-.2 1.41-.59l7.78-7.78 2.81-2.81c.8-.78.8-2.07 0-2.86zM5.41 20L4 18.59l7.72-7.72 1.47 1.35L5.41 20z\"/>\n",
              "  </svg>\n",
              "      </button>\n",
              "      \n",
              "  <style>\n",
              "    .colab-df-container {\n",
              "      display:flex;\n",
              "      flex-wrap:wrap;\n",
              "      gap: 12px;\n",
              "    }\n",
              "\n",
              "    .colab-df-convert {\n",
              "      background-color: #E8F0FE;\n",
              "      border: none;\n",
              "      border-radius: 50%;\n",
              "      cursor: pointer;\n",
              "      display: none;\n",
              "      fill: #1967D2;\n",
              "      height: 32px;\n",
              "      padding: 0 0 0 0;\n",
              "      width: 32px;\n",
              "    }\n",
              "\n",
              "    .colab-df-convert:hover {\n",
              "      background-color: #E2EBFA;\n",
              "      box-shadow: 0px 1px 2px rgba(60, 64, 67, 0.3), 0px 1px 3px 1px rgba(60, 64, 67, 0.15);\n",
              "      fill: #174EA6;\n",
              "    }\n",
              "\n",
              "    [theme=dark] .colab-df-convert {\n",
              "      background-color: #3B4455;\n",
              "      fill: #D2E3FC;\n",
              "    }\n",
              "\n",
              "    [theme=dark] .colab-df-convert:hover {\n",
              "      background-color: #434B5C;\n",
              "      box-shadow: 0px 1px 3px 1px rgba(0, 0, 0, 0.15);\n",
              "      filter: drop-shadow(0px 1px 2px rgba(0, 0, 0, 0.3));\n",
              "      fill: #FFFFFF;\n",
              "    }\n",
              "  </style>\n",
              "\n",
              "      <script>\n",
              "        const buttonEl =\n",
              "          document.querySelector('#df-c3b5fa3f-fc77-4275-ac4a-0952541e6900 button.colab-df-convert');\n",
              "        buttonEl.style.display =\n",
              "          google.colab.kernel.accessAllowed ? 'block' : 'none';\n",
              "\n",
              "        async function convertToInteractive(key) {\n",
              "          const element = document.querySelector('#df-c3b5fa3f-fc77-4275-ac4a-0952541e6900');\n",
              "          const dataTable =\n",
              "            await google.colab.kernel.invokeFunction('convertToInteractive',\n",
              "                                                     [key], {});\n",
              "          if (!dataTable) return;\n",
              "\n",
              "          const docLinkHtml = 'Like what you see? Visit the ' +\n",
              "            '<a target=\"_blank\" href=https://colab.research.google.com/notebooks/data_table.ipynb>data table notebook</a>'\n",
              "            + ' to learn more about interactive tables.';\n",
              "          element.innerHTML = '';\n",
              "          dataTable['output_type'] = 'display_data';\n",
              "          await google.colab.output.renderOutput(dataTable, element);\n",
              "          const docLink = document.createElement('div');\n",
              "          docLink.innerHTML = docLinkHtml;\n",
              "          element.appendChild(docLink);\n",
              "        }\n",
              "      </script>\n",
              "    </div>\n",
              "  </div>\n",
              "  "
            ]
          },
          "metadata": {},
          "execution_count": 7
        }
      ]
    },
    {
      "cell_type": "code",
      "source": [
        "# plotting a bar chart to show the percentage of missing values in each column with missing values \n",
        "def miss_plot(dataset):\n",
        "  col = dataset.columns[dataset.isna().any().to_list()]\n",
        "  f, ax = plt.subplots(figsize=(10, 5))\n",
        "  plt.xticks(rotation='90')\n",
        "  sns.barplot(x=col, y=(dataset[col].isnull().sum().values)/len(dataset)*100)\n",
        "  plt.xlabel('Variables', fontsize=15)\n",
        "  plt.ylabel('Percentage of missing values', fontsize=15)\n",
        "  plt.title('Percentage of missing data by variable', fontsize=15)\n",
        "  plt.show()\n",
        "miss_plot(whole_dataset)"
      ],
      "metadata": {
        "colab": {
          "base_uri": "https://localhost:8080/",
          "height": 418
        },
        "id": "8oQpG4PbM2ob",
        "outputId": "727cbd57-14be-4329-8e90-74be1220099a"
      },
      "execution_count": null,
      "outputs": [
        {
          "output_type": "display_data",
          "data": {
            "text/plain": [
              "<Figure size 720x360 with 1 Axes>"
            ],
            "image/png": "[encoded data removed]"
          },
          "metadata": {
            "needs_background": "light"
          }
        }
      ]
    },
    {
      "cell_type": "markdown",
      "source": [
        "Some columns have a very high percentage of missing values and are most probably insignifcant to our models. We will drop them. Also SalePrice has half missing because the test dataset has no sale price. We will handle that as well."
      ],
      "metadata": {
        "id": "paf8zYdjFlSg"
      }
    },
    {
      "cell_type": "code",
      "source": [
        "# dropping columns with less than 2000 rows of data \n",
        "whole_dataset = whole_dataset.dropna(axis=1,thresh=2000)\n",
        "\n",
        "\n",
        "miss_plot(whole_dataset)\n",
        "info_on_missing_values(whole_dataset)[20:] # remove \"[20:0]\" to see complete list of missing values"
      ],
      "metadata": {
        "colab": {
          "base_uri": "https://localhost:8080/",
          "height": 733
        },
        "id": "pNIZTjS4M2xx",
        "outputId": "f60dd856-61e2-43f8-cd20-8741fd1e7f0f",
        "collapsed": true
      },
      "execution_count": null,
      "outputs": [
        {
          "output_type": "display_data",
          "data": {
            "text/plain": [
              "<Figure size 720x360 with 1 Axes>"
            ],
            "image/png": "[encoded data removed]"
          },
          "metadata": {
            "needs_background": "light"
          }
        },
        {
          "output_type": "execute_result",
          "data": {
            "text/plain": [
              "             Total Missing Val  Percentage Data Type\n",
              "BsmtFinSF1                   1        0.03   float64\n",
              "GarageCars                   1        0.03   float64\n",
              "TotalBsmtSF                  1        0.03   float64\n",
              "SaleType                     1        0.03    object\n",
              "KitchenQual                  1        0.03    object\n",
              "Electrical                   1        0.03    object\n",
              "Exterior2nd                  1        0.03    object\n",
              "Exterior1st                  1        0.03    object\n",
              "BsmtUnfSF                    1        0.03   float64"
            ],
            "text/html": [
              "\n",
              "  <div id=\"df-a70cb873-4bfb-4574-a3aa-c057ba8f02fd\">\n",
              "    <div class=\"colab-df-container\">\n",
              "      <div>\n",
              "<style scoped>\n",
              "    .dataframe tbody tr th:only-of-type {\n",
              "        vertical-align: middle;\n",
              "    }\n",
              "\n",
              "    .dataframe tbody tr th {\n",
              "        vertical-align: top;\n",
              "    }\n",
              "\n",
              "    .dataframe thead th {\n",
              "        text-align: right;\n",
              "    }\n",
              "</style>\n",
              "<table border=\"1\" class=\"dataframe\">\n",
              "  <thead>\n",
              "    <tr style=\"text-align: right;\">\n",
              "      <th></th>\n",
              "      <th>Total Missing Val</th>\n",
              "      <th>Percentage</th>\n",
              "      <th>Data Type</th>\n",
              "    </tr>\n",
              "  </thead>\n",
              "  <tbody>\n",
              "    <tr>\n",
              "      <th>BsmtFinSF1</th>\n",
              "      <td>1</td>\n",
              "      <td>0.03</td>\n",
              "      <td>float64</td>\n",
              "    </tr>\n",
              "    <tr>\n",
              "      <th>GarageCars</th>\n",
              "      <td>1</td>\n",
              "      <td>0.03</td>\n",
              "      <td>float64</td>\n",
              "    </tr>\n",
              "    <tr>\n",
              "      <th>TotalBsmtSF</th>\n",
              "      <td>1</td>\n",
              "      <td>0.03</td>\n",
              "      <td>float64</td>\n",
              "    </tr>\n",
              "    <tr>\n",
              "      <th>SaleType</th>\n",
              "      <td>1</td>\n",
              "      <td>0.03</td>\n",
              "      <td>object</td>\n",
              "    </tr>\n",
              "    <tr>\n",
              "      <th>KitchenQual</th>\n",
              "      <td>1</td>\n",
              "      <td>0.03</td>\n",
              "      <td>object</td>\n",
              "    </tr>\n",
              "    <tr>\n",
              "      <th>Electrical</th>\n",
              "      <td>1</td>\n",
              "      <td>0.03</td>\n",
              "      <td>object</td>\n",
              "    </tr>\n",
              "    <tr>\n",
              "      <th>Exterior2nd</th>\n",
              "      <td>1</td>\n",
              "      <td>0.03</td>\n",
              "      <td>object</td>\n",
              "    </tr>\n",
              "    <tr>\n",
              "      <th>Exterior1st</th>\n",
              "      <td>1</td>\n",
              "      <td>0.03</td>\n",
              "      <td>object</td>\n",
              "    </tr>\n",
              "    <tr>\n",
              "      <th>BsmtUnfSF</th>\n",
              "      <td>1</td>\n",
              "      <td>0.03</td>\n",
              "      <td>float64</td>\n",
              "    </tr>\n",
              "  </tbody>\n",
              "</table>\n",
              "</div>\n",
              "      <button class=\"colab-df-convert\" onclick=\"convertToInteractive('df-a70cb873-4bfb-4574-a3aa-c057ba8f02fd')\"\n",
              "              title=\"Convert this dataframe to an interactive table.\"\n",
              "              style=\"display:none;\">\n",
              "        \n",
              "  <svg xmlns=\"http://www.w3.org/2000/svg\" height=\"24px\"viewBox=\"0 0 24 24\"\n",
              "       width=\"24px\">\n",
              "    <path d=\"M0 0h24v24H0V0z\" fill=\"none\"/>\n",
              "    <path d=\"M18.56 5.44l.94 2.06.94-2.06 2.06-.94-2.06-.94-.94-2.06-.94 2.06-2.06.94zm-11 1L8.5 8.5l.94-2.06 2.06-.94-2.06-.94L8.5 2.5l-.94 2.06-2.06.94zm10 10l.94 2.06.94-2.06 2.06-.94-2.06-.94-.94-2.06-.94 2.06-2.06.94z\"/><path d=\"M17.41 7.96l-1.37-1.37c-.4-.4-.92-.59-1.43-.59-.52 0-1.04.2-1.43.59L10.3 9.45l-7.72 7.72c-.78.78-.78 2.05 0 2.83L4 21.41c.39.39.9.59 1.41.59.51 0 1.02-.2 1.41-.59l7.78-7.78 2.81-2.81c.8-.78.8-2.07 0-2.86zM5.41 20L4 18.59l7.72-7.72 1.47 1.35L5.41 20z\"/>\n",
              "  </svg>\n",
              "      </button>\n",
              "      \n",
              "  <style>\n",
              "    .colab-df-container {\n",
              "      display:flex;\n",
              "      flex-wrap:wrap;\n",
              "      gap: 12px;\n",
              "    }\n",
              "\n",
              "    .colab-df-convert {\n",
              "      background-color: #E8F0FE;\n",
              "      border: none;\n",
              "      border-radius: 50%;\n",
              "      cursor: pointer;\n",
              "      display: none;\n",
              "      fill: #1967D2;\n",
              "      height: 32px;\n",
              "      padding: 0 0 0 0;\n",
              "      width: 32px;\n",
              "    }\n",
              "\n",
              "    .colab-df-convert:hover {\n",
              "      background-color: #E2EBFA;\n",
              "      box-shadow: 0px 1px 2px rgba(60, 64, 67, 0.3), 0px 1px 3px 1px rgba(60, 64, 67, 0.15);\n",
              "      fill: #174EA6;\n",
              "    }\n",
              "\n",
              "    [theme=dark] .colab-df-convert {\n",
              "      background-color: #3B4455;\n",
              "      fill: #D2E3FC;\n",
              "    }\n",
              "\n",
              "    [theme=dark] .colab-df-convert:hover {\n",
              "      background-color: #434B5C;\n",
              "      box-shadow: 0px 1px 3px 1px rgba(0, 0, 0, 0.15);\n",
              "      filter: drop-shadow(0px 1px 2px rgba(0, 0, 0, 0.3));\n",
              "      fill: #FFFFFF;\n",
              "    }\n",
              "  </style>\n",
              "\n",
              "      <script>\n",
              "        const buttonEl =\n",
              "          document.querySelector('#df-a70cb873-4bfb-4574-a3aa-c057ba8f02fd button.colab-df-convert');\n",
              "        buttonEl.style.display =\n",
              "          google.colab.kernel.accessAllowed ? 'block' : 'none';\n",
              "\n",
              "        async function convertToInteractive(key) {\n",
              "          const element = document.querySelector('#df-a70cb873-4bfb-4574-a3aa-c057ba8f02fd');\n",
              "          const dataTable =\n",
              "            await google.colab.kernel.invokeFunction('convertToInteractive',\n",
              "                                                     [key], {});\n",
              "          if (!dataTable) return;\n",
              "\n",
              "          const docLinkHtml = 'Like what you see? Visit the ' +\n",
              "            '<a target=\"_blank\" href=https://colab.research.google.com/notebooks/data_table.ipynb>data table notebook</a>'\n",
              "            + ' to learn more about interactive tables.';\n",
              "          element.innerHTML = '';\n",
              "          dataTable['output_type'] = 'display_data';\n",
              "          await google.colab.output.renderOutput(dataTable, element);\n",
              "          const docLink = document.createElement('div');\n",
              "          docLink.innerHTML = docLinkHtml;\n",
              "          element.appendChild(docLink);\n",
              "        }\n",
              "      </script>\n",
              "    </div>\n",
              "  </div>\n",
              "  "
            ]
          },
          "metadata": {},
          "execution_count": 9
        }
      ]
    },
    {
      "cell_type": "markdown",
      "source": [
        "The columns with high missing values have been dropped"
      ],
      "metadata": {
        "id": "u-hVAe4-Yf6K"
      }
    },
    {
      "cell_type": "markdown",
      "source": [
        "Some columns have only 4 missing values or less. We'll fill those missing columns with 0's or None depending on the data type of the column "
      ],
      "metadata": {
        "id": "lfzTAQFhZscL"
      }
    },
    {
      "cell_type": "code",
      "source": [
        "# making a list of columns with missing values\n",
        "missing_val_cols = whole_dataset.columns[whole_dataset.isna().any()]\n",
        "# filling columns with missing values less than 5 with 0 or None\n",
        "for col in missing_val_cols:\n",
        "    if whole_dataset[col].isnull().sum() <5:\n",
        "        if whole_dataset[col].dtype == 'object':\n",
        "            whole_dataset[col]= whole_dataset[col].fillna('None')\n",
        "        else:\n",
        "            whole_dataset[col] = whole_dataset[col].fillna(0)\n",
        "\n",
        "miss_plot(whole_dataset)"
      ],
      "metadata": {
        "id": "qBi8tj5XYvh9",
        "outputId": "a1016e72-6f69-48e3-aa84-4b7f8df13537",
        "colab": {
          "base_uri": "https://localhost:8080/",
          "height": 418
        }
      },
      "execution_count": null,
      "outputs": [
        {
          "output_type": "display_data",
          "data": {
            "text/plain": [
              "<Figure size 720x360 with 1 Axes>"
            ],
            "image/png": "[encoded data removed]"
          },
          "metadata": {
            "needs_background": "light"
          }
        }
      ]
    },
    {
      "cell_type": "markdown",
      "source": [
        "The number of columns with missing data has reduced now we go through each to decide what to fill them with"
      ],
      "metadata": {
        "id": "_zEbOjpRcef6"
      }
    },
    {
      "cell_type": "markdown",
      "source": [
        "#### **Analysing each column with missing data**"
      ],
      "metadata": {
        "id": "r4Y4LEPweO8k"
      }
    },
    {
      "cell_type": "markdown",
      "source": [
        "We go through each column left with missing data individually to decide what method to fill them with is the best "
      ],
      "metadata": {
        "id": "VysyrFLHe5Pu"
      }
    },
    {
      "cell_type": "code",
      "source": [
        "# FOR LOTFRONTAGE\n",
        "display(whole_dataset['LotFrontage'].describe())\n",
        "# assigning mean value to miss value for LotFrontage\n",
        "whole_dataset['LotFrontage'] = whole_dataset['LotFrontage'].fillna(whole_dataset['LotFrontage'].mean())\n"
      ],
      "metadata": {
        "id": "sArrPd_eYvw6",
        "colab": {
          "base_uri": "https://localhost:8080/",
          "height": 173
        },
        "outputId": "e1bb8f60-79fd-470e-a219-ea2d7b5eaaf6"
      },
      "execution_count": null,
      "outputs": [
        {
          "output_type": "display_data",
          "data": {
            "text/plain": [
              "count    2433.000000\n",
              "mean       69.305795\n",
              "std        23.344905\n",
              "min        21.000000\n",
              "25%        59.000000\n",
              "50%        68.000000\n",
              "75%        80.000000\n",
              "max       313.000000\n",
              "Name: LotFrontage, dtype: float64"
            ]
          },
          "metadata": {}
        }
      ]
    },
    {
      "cell_type": "code",
      "source": [
        "# for MasVnrType\n",
        "display(whole_dataset['MasVnrType'].describe())\n",
        "# none has the most frequency. i will use that to fill the missing data. \n",
        "whole_dataset['MasVnrType']= whole_dataset['MasVnrType'].fillna(whole_dataset['MasVnrType'].mode()[0])"
      ],
      "metadata": {
        "id": "p9YY3Yn8Yvzw",
        "colab": {
          "base_uri": "https://localhost:8080/",
          "height": 104
        },
        "outputId": "d33f4352-cc89-419c-ce84-98e281e9c9ea"
      },
      "execution_count": null,
      "outputs": [
        {
          "output_type": "display_data",
          "data": {
            "text/plain": [
              "count     2895\n",
              "unique       4\n",
              "top       None\n",
              "freq      1742\n",
              "Name: MasVnrType, dtype: object"
            ]
          },
          "metadata": {}
        }
      ]
    },
    {
      "cell_type": "code",
      "source": [
        "# for MasVnrArea\n",
        "display(whole_dataset['MasVnrArea'].describe())\n",
        "#assigning mode to MasVnrArea\n",
        "whole_dataset['MasVnrArea']= whole_dataset['MasVnrArea'].fillna(whole_dataset['MasVnrArea'].mode()[0])"
      ],
      "metadata": {
        "id": "tD5EWi5SsPyX",
        "colab": {
          "base_uri": "https://localhost:8080/",
          "height": 173
        },
        "outputId": "0741cf6e-670d-4049-cb59-4a09282b6eac"
      },
      "execution_count": null,
      "outputs": [
        {
          "output_type": "display_data",
          "data": {
            "text/plain": [
              "count    2896.000000\n",
              "mean      102.201312\n",
              "std       179.334253\n",
              "min         0.000000\n",
              "25%         0.000000\n",
              "50%         0.000000\n",
              "75%       164.000000\n",
              "max      1600.000000\n",
              "Name: MasVnrArea, dtype: float64"
            ]
          },
          "metadata": {}
        }
      ]
    },
    {
      "cell_type": "code",
      "source": [
        "#for GarageYrBlt\n",
        "print(\"---------- GarageYrBlt Description-----------\")\n",
        "display(whole_dataset['GarageYrBlt'].describe())\n",
        "# Chekcing which column has most correlation with GarageYrBlt column\n",
        "# looking for correlation between gyb and other collumns\n",
        "\n",
        "print(\"---------- Correlation ----------\")\n",
        "print(whole_dataset.corr()['GarageYrBlt'].nlargest(3))\n",
        "# There is significant coorelation between YearBuilt and GarageYrBlt \n",
        "# dropping GarageYrBlt         \n",
        "whole_dataset = whole_dataset.drop(['GarageYrBlt'],axis = 1)"
      ],
      "metadata": {
        "id": "tQzoJHaMYv2d",
        "colab": {
          "base_uri": "https://localhost:8080/",
          "height": 277
        },
        "outputId": "39b98a29-ecc7-4ea1-a123-8899763b33f2"
      },
      "execution_count": null,
      "outputs": [
        {
          "output_type": "stream",
          "name": "stdout",
          "text": [
            "---------- GarageYrBlt Description-----------\n"
          ]
        },
        {
          "output_type": "display_data",
          "data": {
            "text/plain": [
              "count    2760.000000\n",
              "mean     1978.113406\n",
              "std        25.574285\n",
              "min      1895.000000\n",
              "25%      1960.000000\n",
              "50%      1979.000000\n",
              "75%      2002.000000\n",
              "max      2207.000000\n",
              "Name: GarageYrBlt, dtype: float64"
            ]
          },
          "metadata": {}
        },
        {
          "output_type": "stream",
          "name": "stdout",
          "text": [
            "---------- Correlation ----------\n",
            "GarageYrBlt     1.000000\n",
            "YearBuilt       0.834812\n",
            "YearRemodAdd    0.652365\n",
            "Name: GarageYrBlt, dtype: float64\n"
          ]
        }
      ]
    },
    {
      "cell_type": "code",
      "source": [
        "# for BsmtExposure\n",
        "display(whole_dataset['BsmtExposure'].describe())\n",
        "# filling with mode \n",
        "whole_dataset['BsmtExposure']= whole_dataset['BsmtExposure'].fillna(whole_dataset['BsmtExposure'].mode()[0])"
      ],
      "metadata": {
        "id": "Be3upGrErWO1",
        "colab": {
          "base_uri": "https://localhost:8080/",
          "height": 104
        },
        "outputId": "8661cb03-835a-4a76-f569-a3565d7de305"
      },
      "execution_count": null,
      "outputs": [
        {
          "output_type": "display_data",
          "data": {
            "text/plain": [
              "count     2837\n",
              "unique       4\n",
              "top         No\n",
              "freq      1904\n",
              "Name: BsmtExposure, dtype: object"
            ]
          },
          "metadata": {}
        }
      ]
    },
    {
      "cell_type": "markdown",
      "source": [
        "**Observation**"
      ],
      "metadata": {
        "id": "ay2jiS6KdrMP"
      }
    },
    {
      "cell_type": "markdown",
      "source": [
        "Some columns do not have missing values. They represent none as \"NA\". "
      ],
      "metadata": {
        "id": "lGs04UuvrEjG"
      }
    },
    {
      "cell_type": "markdown",
      "source": [
        "**Example of Column with such description**\n",
        "\n",
        "BsmtQual: Evaluates the height of the basement\n",
        "\n",
        "       Ex\tExcellent (100+ inches)\t\n",
        "       Gd\tGood (90-99 inches)\n",
        "       TA\tTypical (80-89 inches)\n",
        "       Fa\tFair (70-79 inches)\n",
        "       Po\tPoor (<70 inches)\n",
        "       NA\tNo Basement"
      ],
      "metadata": {
        "id": "9_xQSuK5HKDd"
      }
    },
    {
      "cell_type": "markdown",
      "source": [
        "We will replace NA with none"
      ],
      "metadata": {
        "id": "xS4NagonHcmZ"
      }
    },
    {
      "cell_type": "code",
      "source": [
        "# FOR BsmtQual\n",
        "whole_dataset['BsmtQual'].describe()\n",
        "# I WILL FILL WITH NONE BECAUSE ACCORDING TO THE DATA SET DESCRIPTION NA MEANS NONE\n",
        "whole_dataset['BsmtQual']= whole_dataset['BsmtQual'].fillna('None')\n",
        "\n",
        "# For BsmtCond\n",
        "whole_dataset['BsmtCond'].describe()\n",
        "# I WILL FILL WITH NONE BECAUSE ACCORDING TO THE DATA SET DESCRIPTION NA MEANS NONE\n",
        "whole_dataset['BsmtCond']= whole_dataset['BsmtCond'].fillna('None')\n",
        "\n",
        "\n",
        "#for BsmtFinType1\n",
        "whole_dataset['BsmtFinType1'].describe()\n",
        "# I WILL FILL WITH NONE BECAUSE ACCORDING TO THE DATA SET DESCRIPTION NA MEANS NONE\n",
        "whole_dataset['BsmtFinType1']= whole_dataset['BsmtFinType1'].fillna('None')\n",
        "\n",
        "# for BsmtFinType2\n",
        "whole_dataset['BsmtFinType2'].describe()\n",
        "# I WILL FILL WITH NONE BECAUSE ACCORDING TO THE DATA SET DESCRIPTION NA MEANS NONE\n",
        "whole_dataset['BsmtFinType2']= whole_dataset['BsmtFinType2'].fillna('None')\n",
        "\n",
        "\n",
        "# for GarageType\n",
        "whole_dataset['GarageType'].describe()\n",
        "# I WILL FILL WITH NONE BECAUSE ACCORDING TO THE DATA SET DESCRIPTION NA MEANS NONE\n",
        "whole_dataset['GarageType']= whole_dataset['GarageType'].fillna('None')\n",
        "\n",
        "\n",
        "\n",
        "# for GarageFinish\n",
        "# I WILL FILL WITH NONE BECAUSE ACCORDING TO THE DATA SET DESCRIPTION NA MEANS NONE\n",
        "whole_dataset['GarageFinish']= whole_dataset['GarageFinish'].fillna('None')\n",
        "\n",
        "\n",
        "# for GarageQual\n",
        "# I WILL FILL WITH NONE BECAUSE ACCORDING TO THE DATA SET DESCRIPTION NA MEANS NONE\n",
        "whole_dataset['GarageQual']= whole_dataset['GarageQual'].fillna('None')\n",
        "\n",
        "\n",
        "# for GarageCond\n",
        "# I WILL FILL WITH NONE BECAUSE ACCORDING TO THE DATA SET DESCRIPTION NA MEANS NONE\n",
        "whole_dataset['GarageCond']= whole_dataset['GarageCond'].fillna('None')"
      ],
      "metadata": {
        "id": "XSNQVngGYv5G"
      },
      "execution_count": null,
      "outputs": []
    },
    {
      "cell_type": "code",
      "source": [
        "# checking for columns with missing values\n",
        "info_on_missing_values(whole_dataset)"
      ],
      "metadata": {
        "id": "hiSFpZItYv8f",
        "outputId": "91eb70fc-06cb-44fe-f451-8581188fdba0",
        "colab": {
          "base_uri": "https://localhost:8080/",
          "height": 49
        }
      },
      "execution_count": null,
      "outputs": [
        {
          "output_type": "execute_result",
          "data": {
            "text/plain": [
              "Empty DataFrame\n",
              "Columns: [Total Missing Val, Percentage, Data Type]\n",
              "Index: []"
            ],
            "text/html": [
              "\n",
              "  <div id=\"df-639c9f77-a35a-4749-87f1-754db704ca44\">\n",
              "    <div class=\"colab-df-container\">\n",
              "      <div>\n",
              "<style scoped>\n",
              "    .dataframe tbody tr th:only-of-type {\n",
              "        vertical-align: middle;\n",
              "    }\n",
              "\n",
              "    .dataframe tbody tr th {\n",
              "        vertical-align: top;\n",
              "    }\n",
              "\n",
              "    .dataframe thead th {\n",
              "        text-align: right;\n",
              "    }\n",
              "</style>\n",
              "<table border=\"1\" class=\"dataframe\">\n",
              "  <thead>\n",
              "    <tr style=\"text-align: right;\">\n",
              "      <th></th>\n",
              "      <th>Total Missing Val</th>\n",
              "      <th>Percentage</th>\n",
              "      <th>Data Type</th>\n",
              "    </tr>\n",
              "  </thead>\n",
              "  <tbody>\n",
              "  </tbody>\n",
              "</table>\n",
              "</div>\n",
              "      <button class=\"colab-df-convert\" onclick=\"convertToInteractive('df-639c9f77-a35a-4749-87f1-754db704ca44')\"\n",
              "              title=\"Convert this dataframe to an interactive table.\"\n",
              "              style=\"display:none;\">\n",
              "        \n",
              "  <svg xmlns=\"http://www.w3.org/2000/svg\" height=\"24px\"viewBox=\"0 0 24 24\"\n",
              "       width=\"24px\">\n",
              "    <path d=\"M0 0h24v24H0V0z\" fill=\"none\"/>\n",
              "    <path d=\"M18.56 5.44l.94 2.06.94-2.06 2.06-.94-2.06-.94-.94-2.06-.94 2.06-2.06.94zm-11 1L8.5 8.5l.94-2.06 2.06-.94-2.06-.94L8.5 2.5l-.94 2.06-2.06.94zm10 10l.94 2.06.94-2.06 2.06-.94-2.06-.94-.94-2.06-.94 2.06-2.06.94z\"/><path d=\"M17.41 7.96l-1.37-1.37c-.4-.4-.92-.59-1.43-.59-.52 0-1.04.2-1.43.59L10.3 9.45l-7.72 7.72c-.78.78-.78 2.05 0 2.83L4 21.41c.39.39.9.59 1.41.59.51 0 1.02-.2 1.41-.59l7.78-7.78 2.81-2.81c.8-.78.8-2.07 0-2.86zM5.41 20L4 18.59l7.72-7.72 1.47 1.35L5.41 20z\"/>\n",
              "  </svg>\n",
              "      </button>\n",
              "      \n",
              "  <style>\n",
              "    .colab-df-container {\n",
              "      display:flex;\n",
              "      flex-wrap:wrap;\n",
              "      gap: 12px;\n",
              "    }\n",
              "\n",
              "    .colab-df-convert {\n",
              "      background-color: #E8F0FE;\n",
              "      border: none;\n",
              "      border-radius: 50%;\n",
              "      cursor: pointer;\n",
              "      display: none;\n",
              "      fill: #1967D2;\n",
              "      height: 32px;\n",
              "      padding: 0 0 0 0;\n",
              "      width: 32px;\n",
              "    }\n",
              "\n",
              "    .colab-df-convert:hover {\n",
              "      background-color: #E2EBFA;\n",
              "      box-shadow: 0px 1px 2px rgba(60, 64, 67, 0.3), 0px 1px 3px 1px rgba(60, 64, 67, 0.15);\n",
              "      fill: #174EA6;\n",
              "    }\n",
              "\n",
              "    [theme=dark] .colab-df-convert {\n",
              "      background-color: #3B4455;\n",
              "      fill: #D2E3FC;\n",
              "    }\n",
              "\n",
              "    [theme=dark] .colab-df-convert:hover {\n",
              "      background-color: #434B5C;\n",
              "      box-shadow: 0px 1px 3px 1px rgba(0, 0, 0, 0.15);\n",
              "      filter: drop-shadow(0px 1px 2px rgba(0, 0, 0, 0.3));\n",
              "      fill: #FFFFFF;\n",
              "    }\n",
              "  </style>\n",
              "\n",
              "      <script>\n",
              "        const buttonEl =\n",
              "          document.querySelector('#df-639c9f77-a35a-4749-87f1-754db704ca44 button.colab-df-convert');\n",
              "        buttonEl.style.display =\n",
              "          google.colab.kernel.accessAllowed ? 'block' : 'none';\n",
              "\n",
              "        async function convertToInteractive(key) {\n",
              "          const element = document.querySelector('#df-639c9f77-a35a-4749-87f1-754db704ca44');\n",
              "          const dataTable =\n",
              "            await google.colab.kernel.invokeFunction('convertToInteractive',\n",
              "                                                     [key], {});\n",
              "          if (!dataTable) return;\n",
              "\n",
              "          const docLinkHtml = 'Like what you see? Visit the ' +\n",
              "            '<a target=\"_blank\" href=https://colab.research.google.com/notebooks/data_table.ipynb>data table notebook</a>'\n",
              "            + ' to learn more about interactive tables.';\n",
              "          element.innerHTML = '';\n",
              "          dataTable['output_type'] = 'display_data';\n",
              "          await google.colab.output.renderOutput(dataTable, element);\n",
              "          const docLink = document.createElement('div');\n",
              "          docLink.innerHTML = docLinkHtml;\n",
              "          element.appendChild(docLink);\n",
              "        }\n",
              "      </script>\n",
              "    </div>\n",
              "  </div>\n",
              "  "
            ]
          },
          "metadata": {},
          "execution_count": 17
        }
      ]
    },
    {
      "cell_type": "markdown",
      "source": [
        "HURRAY WE HAVE HANDLED ALL THE COLUMNS WITH MISSING VALUES"
      ],
      "metadata": {
        "id": "IFfgnCI0soYF"
      }
    },
    {
      "cell_type": "markdown",
      "source": [
        "### **Handling numerical columns**"
      ],
      "metadata": {
        "id": "6zvN3g1v4XNN"
      }
    },
    {
      "cell_type": "markdown",
      "source": [
        "One assumption for linear regression is that variables are independent. We will go through the dataset and check for columns that have high correlation"
      ],
      "metadata": {
        "id": "a5HXNPDS48RY"
      }
    },
    {
      "cell_type": "code",
      "source": [
        "#Correlation map to see how features are correlated with each other\n",
        "corrmat = whole_dataset.corr()\n",
        "plt.subplots(figsize=(12,9))\n",
        "sns.heatmap(corrmat, vmax=0.9, square=True)"
      ],
      "metadata": {
        "id": "8RP9bM7OIG4g",
        "outputId": "61d8f2f4-4b70-4359-a987-50892998cb1b",
        "colab": {
          "base_uri": "https://localhost:8080/",
          "height": 620
        }
      },
      "execution_count": null,
      "outputs": [
        {
          "output_type": "execute_result",
          "data": {
            "text/plain": [
              "<matplotlib.axes._subplots.AxesSubplot at 0x7f4781382f50>"
            ]
          },
          "metadata": {},
          "execution_count": 18
        },
        {
          "output_type": "display_data",
          "data": {
            "text/plain": [
              "<Figure size 864x648 with 2 Axes>"
            ],
            "image/png": "[encoded data removed]"
          },
          "metadata": {
            "needs_background": "light"
          }
        }
      ]
    },
    {
      "cell_type": "markdown",
      "source": [
        "The plot isn't really helpful. We will create a correlation matrix instead and deduce the columns with high correlation\n",
        "\n"
      ],
      "metadata": {
        "id": "mCMcJF9AIT_5"
      }
    },
    {
      "cell_type": "code",
      "source": [
        "# Create correlation matrix\n",
        "corr_matrix = whole_dataset.corr().abs()\n",
        "\n",
        "# Select upper triangle of correlation matrix\n",
        "upper = corr_matrix.where(np.triu(np.ones(corr_matrix.shape), k=1).astype(np.bool))\n",
        "\n",
        "# Find index of feature columns with correlation greater than 0.85 and put them in a list\n",
        "to_drop = [column for column in upper.columns if any(upper[column] > 0.85)]\n",
        "#whole_dataset.drop(to_drop,axis=1)\n",
        "to_drop"
      ],
      "metadata": {
        "id": "4XMCEAXq4dOJ",
        "outputId": "2cc8f058-952e-45ea-9aef-dd737bbb4b15",
        "colab": {
          "base_uri": "https://localhost:8080/"
        }
      },
      "execution_count": null,
      "outputs": [
        {
          "output_type": "stream",
          "name": "stderr",
          "text": [
            "/usr/local/lib/python3.7/dist-packages/ipykernel_launcher.py:5: DeprecationWarning: `np.bool` is a deprecated alias for the builtin `bool`. To silence this warning, use `bool` by itself. Doing this will not modify any behavior and is safe. If you specifically wanted the numpy scalar type, use `np.bool_` here.\n",
            "Deprecated in NumPy 1.20; for more details and guidance: https://numpy.org/devdocs/release/1.20.0-notes.html#deprecations\n",
            "  \"\"\"\n"
          ]
        },
        {
          "output_type": "execute_result",
          "data": {
            "text/plain": [
              "['GarageArea']"
            ]
          },
          "metadata": {},
          "execution_count": 19
        }
      ]
    },
    {
      "cell_type": "code",
      "source": [
        "# checking column that has high correlation with Garage Area\n",
        "whole_dataset.corr()['GarageArea'].nlargest(3)"
      ],
      "metadata": {
        "id": "ZpvsresI4dhz",
        "outputId": "f0732c67-d7c4-498a-eaa1-ed1fe0146b8c",
        "colab": {
          "base_uri": "https://localhost:8080/"
        }
      },
      "execution_count": null,
      "outputs": [
        {
          "output_type": "execute_result",
          "data": {
            "text/plain": [
              "GarageArea     1.000000\n",
              "GarageCars     0.889890\n",
              "OverallQual    0.565179\n",
              "Name: GarageArea, dtype: float64"
            ]
          },
          "metadata": {},
          "execution_count": 20
        }
      ]
    },
    {
      "cell_type": "markdown",
      "source": [
        "This shows that Garage Area and Garage Cars have a high correlation\n",
        "\n",
        "```\n",
        "GarageCars: Size of garage in car capacity\n",
        "\n",
        "GarageArea: Size of garage in square feet\n",
        "\n",
        "```\n",
        "From the description we can see most times the garage area and the size of garage in car capacity are either the same or as the car size space increases the garage area increases as well"
      ],
      "metadata": {
        "id": "K3St7mrW_Qs3"
      }
    },
    {
      "cell_type": "code",
      "source": [
        "# dropping garage cars\n",
        "whole_dataset = whole_dataset.drop('GarageCars',axis=1)"
      ],
      "metadata": {
        "id": "0FO5xh0k__vh"
      },
      "execution_count": null,
      "outputs": []
    },
    {
      "cell_type": "markdown",
      "source": [
        "### **Handling non-numerical columns**"
      ],
      "metadata": {
        "id": "2kwHXlCiv_m3"
      }
    },
    {
      "cell_type": "markdown",
      "source": [
        "There are columns with categorical data which need to be worked on before using the dataset for a model."
      ],
      "metadata": {
        "id": "ireCzob_wdAc"
      }
    },
    {
      "cell_type": "markdown",
      "source": [
        "After going through the data description, Some columns have ordinal data and others have nominal data."
      ],
      "metadata": {
        "id": "jJvKwXwswyKy"
      }
    },
    {
      "cell_type": "markdown",
      "source": [
        "**Nominal Data**\n",
        "```\n",
        "Foundation: Type of foundation\n",
        "\t\t\n",
        "       BrkTil\tBrick & Tile\n",
        "       CBlock\tCinder Block\n",
        "       PConc\tPoured Contrete\t\n",
        "       Slab\tSlab\n",
        "       Stone\tStone\n",
        "       Wood\tWood\n",
        "````\n",
        "**Ordinal Data**\n",
        "```\n",
        "BsmtQual: Evaluates the height of the basement\n",
        "\n",
        "       Ex\tExcellent (100+ inches)\t\n",
        "       Gd\tGood (90-99 inches)\n",
        "       TA\tTypical (80-89 inches)\n",
        "       Fa\tFair (70-79 inches)\n",
        "       Po\tPoor (<70 inches\n",
        "       NA\tNo Basement\n",
        "\n",
        "```"
      ],
      "metadata": {
        "id": "43LYU-Bay1d-"
      }
    },
    {
      "cell_type": "markdown",
      "source": [
        "I have gone through the data description and created a list of columns with nonimal ordinal data"
      ],
      "metadata": {
        "id": "WIQf8nyVKOd8"
      }
    },
    {
      "cell_type": "markdown",
      "source": [
        "#### **Nominal data**"
      ],
      "metadata": {
        "id": "rEp5--MJ0Ifq"
      }
    },
    {
      "cell_type": "code",
      "source": [
        "# This is a list of columns with nominal data \n",
        "categorical_columns = ['MSZoning','Street','LotShape','LandContour',\n",
        "'Utilities','LotConfig','LandSlope','Neighborhood','Condition1',\n",
        "'Condition2','BldgType','HouseStyle','RoofStyle','RoofMatl','Exterior1st',\n",
        "'Exterior2nd','MasVnrType','Foundation','Heating','CentralAir',\n",
        "'Electrical','Functional','GarageType','GarageFinish','PavedDrive','SaleType','SaleCondition']\n",
        "\n",
        "\n",
        "# for nominal data the goal is to transpose the dataset for each category of each column and attach binary values \n",
        "whole_dataset = pd.get_dummies(whole_dataset, prefix=categorical_columns, columns=categorical_columns)\n",
        "whole_dataset.shape"
      ],
      "metadata": {
        "id": "4WDiF4BwwGyo",
        "outputId": "23631d30-fe4d-44e1-b309-c0f0a12c155b",
        "colab": {
          "base_uri": "https://localhost:8080/"
        }
      },
      "execution_count": null,
      "outputs": [
        {
          "output_type": "execute_result",
          "data": {
            "text/plain": [
              "(2919, 236)"
            ]
          },
          "metadata": {},
          "execution_count": 22
        }
      ]
    },
    {
      "cell_type": "markdown",
      "source": [
        "After transposing the columns with nominal data the feature size increased from 79 to 236."
      ],
      "metadata": {
        "id": "EyBrKYzCeXq9"
      }
    },
    {
      "cell_type": "markdown",
      "source": [
        "#### **Ordinal data**\n"
      ],
      "metadata": {
        "id": "ycqDsUbV0WAC"
      }
    },
    {
      "cell_type": "code",
      "source": [
        "\n",
        "# This is a list of columns with ordinal data\n",
        "ordinal_columns = ['OverallQual','OverallCond','ExterQual','ExterCond',\n",
        "'BsmtQual','BsmtCond','BsmtExposure','BsmtFinType1','BsmtFinType2',\n",
        "'HeatingQC','KitchenQual','GarageCond','GarageQual']\n",
        "\n",
        "# for columns with ordinal data, the solution is to use a label encoder to attach numbers to each level\n",
        "# the label encoder object\n",
        "from sklearn import preprocessing\n",
        "le = preprocessing.LabelEncoder()\n",
        "\n",
        "for col in ordinal_columns:\n",
        "    whole_dataset[col]=le.fit_transform(whole_dataset[col])\n",
        "\n",
        "display(whole_dataset.dtypes)"
      ],
      "metadata": {
        "id": "EEDMqsNSwHh3",
        "colab": {
          "base_uri": "https://localhost:8080/",
          "height": 121
        },
        "outputId": "9e86d614-3650-4c8c-e375-1c40e2143ee2"
      },
      "execution_count": null,
      "outputs": [
        {
          "output_type": "display_data",
          "data": {
            "text/plain": [
              "MSSubClass                 int64\n",
              "LotFrontage              float64\n",
              "                          ...   \n",
              "SaleCondition_Normal       uint8\n",
              "SaleCondition_Partial      uint8\n",
              "Length: 236, dtype: object"
            ]
          },
          "metadata": {}
        }
      ]
    },
    {
      "cell_type": "code",
      "source": [
        "# shows columns with object data types\n",
        "whole_dataset.dtype=\"object\""
      ],
      "metadata": {
        "id": "fukQDztKeyuJ"
      },
      "execution_count": null,
      "outputs": []
    },
    {
      "cell_type": "markdown",
      "source": [
        "All columns with object data types have been changed to numeric values"
      ],
      "metadata": {
        "id": "BxFYaBC-p6u9"
      }
    },
    {
      "cell_type": "markdown",
      "source": [
        "## **Modelling**"
      ],
      "metadata": {
        "id": "bkzJOfLVFT_N"
      }
    },
    {
      "cell_type": "markdown",
      "source": [
        "We are going to use a linear regression to build this model"
      ],
      "metadata": {
        "id": "fxY95wPZKar7"
      }
    },
    {
      "cell_type": "markdown",
      "source": [
        "### **First Model**"
      ],
      "metadata": {
        "id": "tqpZmCt2FrOH"
      }
    },
    {
      "cell_type": "markdown",
      "source": [
        "Remember we combined both test and train dataset for data processing, we will split them for our modelling and create a model using all the variables."
      ],
      "metadata": {
        "id": "NAfDLrcFLBbW"
      }
    },
    {
      "cell_type": "code",
      "source": [
        "# spilt the dataset into the original train and test set again\n",
        "true_train_dataset = whole_dataset[:1460] \n",
        " \n",
        "true_test_dataset = whole_dataset[1460:] \n",
        "\n",
        "# assigning the target variable to Y\n",
        "Y = train_dataset['SalePrice']\n"
      ],
      "metadata": {
        "id": "OJUCrSPvFXo8"
      },
      "execution_count": null,
      "outputs": []
    },
    {
      "cell_type": "markdown",
      "source": [
        "Our first model is going to use all 236 features to make prediction "
      ],
      "metadata": {
        "id": "3OgyPf0ZfAHt"
      }
    },
    {
      "cell_type": "code",
      "source": [
        "\n",
        "# Running linear regression using all the variables\n",
        "model = LinearRegression()\n",
        "\n",
        "print(\"Running Linear Regression using all variables...\")\n",
        "\n",
        "\n",
        "model.fit(true_train_dataset, Y)\n",
        "\n",
        "list_of_col = true_train_dataset.columns.to_list()\n",
        "\n",
        "\n",
        "print(\"\")\n",
        "# using cross validation to check the accuracy of the model\n",
        "k_folds = KFold(n_splits = 5)\n",
        "\n",
        "scores = cross_val_score(model, true_train_dataset, Y, cv = k_folds)\n",
        "\n",
        "print(\"Cross Validation Scores: \", scores)\n",
        "print(\"Average CV Score: \", scores.mean())\n",
        "print(\"Number of CV Scores used in Average: \", len(scores))\n",
        "\n",
        "print(\"\")\n",
        "\n",
        "train_estimate = pd.Series(index=list_of_col, data=model.coef_)\n",
        "\n",
        "est_order = train_estimate.abs().sort_values(ascending=False).index.tolist()\n",
        "\n",
        "predicted_val = model.predict(true_train_dataset)\n",
        "\n",
        "#print(metrics.mean_squared_error(predict_test,Y_test))\n",
        "print('-------Top 10 Features with high estimates ---------')\n",
        "print(train_estimate[est_order][:10])"
      ],
      "metadata": {
        "id": "rvlTWbkHFYKi",
        "outputId": "4cc0258f-fc30-49cc-df71-849375c8a571",
        "colab": {
          "base_uri": "https://localhost:8080/"
        }
      },
      "execution_count": null,
      "outputs": [
        {
          "output_type": "stream",
          "name": "stdout",
          "text": [
            "Running Linear Regression using all variables...\n",
            "\n",
            "Cross Validation Scores:  [0.88433362 0.8564229  0.84932194 0.91240595 0.74370154]\n",
            "Average CV Score:  0.849237190346161\n",
            "Number of CV Scores used in Average:  5\n",
            "\n",
            "-------Top 10 Features with high estimates ---------\n",
            "RoofMatl_ClyTile   -2.441109\n",
            "Condition2_PosN    -0.716871\n",
            "RoofMatl_Membran    0.637558\n",
            "RoofMatl_Metal      0.455063\n",
            "Condition2_PosA     0.373428\n",
            "RoofMatl_WdShngl    0.369435\n",
            "Condition2_RRAe    -0.368398\n",
            "RoofStyle_Shed      0.343327\n",
            "MSZoning_C (all)   -0.334841\n",
            "RoofMatl_Roll       0.285220\n",
            "dtype: float64\n"
          ]
        }
      ]
    },
    {
      "cell_type": "markdown",
      "source": [
        "The model is not doing too bad.\n",
        "\n",
        "After using all the features the model did alright but we have a lot of features.\n",
        "We would use a feature selection technique to choose only the features that actually help us with predicting our target."
      ],
      "metadata": {
        "id": "j5x8kWwCPNPR"
      }
    },
    {
      "cell_type": "markdown",
      "source": [
        "### **Feature Selection**"
      ],
      "metadata": {
        "id": "bdoFe1Q_ihNW"
      }
    },
    {
      "cell_type": "markdown",
      "source": [
        "I am using backward elimination method. \n",
        "\n",
        "You can determine how likely it is for your data to have occurred under the null hypothesis by looking at the p-value, or probability value. (Bevans, 2022)\n",
        "\n",
        "- We use all the features to make a model.\n",
        "- Then remove the worst performing feature using the p_value with threshold of 0.05.\n",
        "- Run a new model with the remaining features until the model is doing okay. (Shetye, 2019)\n",
        "\n",
        "\n",
        "\n",
        "\n"
      ],
      "metadata": {
        "id": "vXej05HzjTqn"
      }
    },
    {
      "cell_type": "markdown",
      "source": [
        "Step 1 of backward elimination "
      ],
      "metadata": {
        "id": "1i0jZuIYMZF5"
      }
    },
    {
      "cell_type": "code",
      "source": [
        "# checking the max p_value from the first model with all the features\n",
        "\n",
        "#Adding constant column of ones, mandatory for sm.OLS model\n",
        "X_1 = sm.add_constant(true_train_dataset)\n",
        "#Fitting sm.OLS model\n",
        "model_ols = sm.OLS(Y,X_1).fit()\n",
        "t = pd.DataFrame()\n",
        "t['pvalue'] = model_ols.pvalues\n",
        "t[t['pvalue'] == max(t['pvalue'])]\n"
      ],
      "metadata": {
        "id": "ck0MelJ4f_xE",
        "outputId": "49ee3a8b-27e5-4183-b9ba-f2d5447386be",
        "colab": {
          "base_uri": "https://localhost:8080/",
          "height": 135
        }
      },
      "execution_count": null,
      "outputs": [
        {
          "output_type": "stream",
          "name": "stderr",
          "text": [
            "/usr/local/lib/python3.7/dist-packages/statsmodels/tsa/tsatools.py:142: FutureWarning: In a future version of pandas all arguments of concat except for the argument 'objs' will be keyword-only\n",
            "  x = pd.concat(x[::order], 1)\n"
          ]
        },
        {
          "output_type": "execute_result",
          "data": {
            "text/plain": [
              "                     pvalue\n",
              "Exterior2nd_Other  0.861116"
            ],
            "text/html": [
              "\n",
              "  <div id=\"df-027b4d90-9767-41a1-bd2d-d0654430457d\">\n",
              "    <div class=\"colab-df-container\">\n",
              "      <div>\n",
              "<style scoped>\n",
              "    .dataframe tbody tr th:only-of-type {\n",
              "        vertical-align: middle;\n",
              "    }\n",
              "\n",
              "    .dataframe tbody tr th {\n",
              "        vertical-align: top;\n",
              "    }\n",
              "\n",
              "    .dataframe thead th {\n",
              "        text-align: right;\n",
              "    }\n",
              "</style>\n",
              "<table border=\"1\" class=\"dataframe\">\n",
              "  <thead>\n",
              "    <tr style=\"text-align: right;\">\n",
              "      <th></th>\n",
              "      <th>pvalue</th>\n",
              "    </tr>\n",
              "  </thead>\n",
              "  <tbody>\n",
              "    <tr>\n",
              "      <th>Exterior2nd_Other</th>\n",
              "      <td>0.861116</td>\n",
              "    </tr>\n",
              "  </tbody>\n",
              "</table>\n",
              "</div>\n",
              "      <button class=\"colab-df-convert\" onclick=\"convertToInteractive('df-027b4d90-9767-41a1-bd2d-d0654430457d')\"\n",
              "              title=\"Convert this dataframe to an interactive table.\"\n",
              "              style=\"display:none;\">\n",
              "        \n",
              "  <svg xmlns=\"http://www.w3.org/2000/svg\" height=\"24px\"viewBox=\"0 0 24 24\"\n",
              "       width=\"24px\">\n",
              "    <path d=\"M0 0h24v24H0V0z\" fill=\"none\"/>\n",
              "    <path d=\"M18.56 5.44l.94 2.06.94-2.06 2.06-.94-2.06-.94-.94-2.06-.94 2.06-2.06.94zm-11 1L8.5 8.5l.94-2.06 2.06-.94-2.06-.94L8.5 2.5l-.94 2.06-2.06.94zm10 10l.94 2.06.94-2.06 2.06-.94-2.06-.94-.94-2.06-.94 2.06-2.06.94z\"/><path d=\"M17.41 7.96l-1.37-1.37c-.4-.4-.92-.59-1.43-.59-.52 0-1.04.2-1.43.59L10.3 9.45l-7.72 7.72c-.78.78-.78 2.05 0 2.83L4 21.41c.39.39.9.59 1.41.59.51 0 1.02-.2 1.41-.59l7.78-7.78 2.81-2.81c.8-.78.8-2.07 0-2.86zM5.41 20L4 18.59l7.72-7.72 1.47 1.35L5.41 20z\"/>\n",
              "  </svg>\n",
              "      </button>\n",
              "      \n",
              "  <style>\n",
              "    .colab-df-container {\n",
              "      display:flex;\n",
              "      flex-wrap:wrap;\n",
              "      gap: 12px;\n",
              "    }\n",
              "\n",
              "    .colab-df-convert {\n",
              "      background-color: #E8F0FE;\n",
              "      border: none;\n",
              "      border-radius: 50%;\n",
              "      cursor: pointer;\n",
              "      display: none;\n",
              "      fill: #1967D2;\n",
              "      height: 32px;\n",
              "      padding: 0 0 0 0;\n",
              "      width: 32px;\n",
              "    }\n",
              "\n",
              "    .colab-df-convert:hover {\n",
              "      background-color: #E2EBFA;\n",
              "      box-shadow: 0px 1px 2px rgba(60, 64, 67, 0.3), 0px 1px 3px 1px rgba(60, 64, 67, 0.15);\n",
              "      fill: #174EA6;\n",
              "    }\n",
              "\n",
              "    [theme=dark] .colab-df-convert {\n",
              "      background-color: #3B4455;\n",
              "      fill: #D2E3FC;\n",
              "    }\n",
              "\n",
              "    [theme=dark] .colab-df-convert:hover {\n",
              "      background-color: #434B5C;\n",
              "      box-shadow: 0px 1px 3px 1px rgba(0, 0, 0, 0.15);\n",
              "      filter: drop-shadow(0px 1px 2px rgba(0, 0, 0, 0.3));\n",
              "      fill: #FFFFFF;\n",
              "    }\n",
              "  </style>\n",
              "\n",
              "      <script>\n",
              "        const buttonEl =\n",
              "          document.querySelector('#df-027b4d90-9767-41a1-bd2d-d0654430457d button.colab-df-convert');\n",
              "        buttonEl.style.display =\n",
              "          google.colab.kernel.accessAllowed ? 'block' : 'none';\n",
              "\n",
              "        async function convertToInteractive(key) {\n",
              "          const element = document.querySelector('#df-027b4d90-9767-41a1-bd2d-d0654430457d');\n",
              "          const dataTable =\n",
              "            await google.colab.kernel.invokeFunction('convertToInteractive',\n",
              "                                                     [key], {});\n",
              "          if (!dataTable) return;\n",
              "\n",
              "          const docLinkHtml = 'Like what you see? Visit the ' +\n",
              "            '<a target=\"_blank\" href=https://colab.research.google.com/notebooks/data_table.ipynb>data table notebook</a>'\n",
              "            + ' to learn more about interactive tables.';\n",
              "          element.innerHTML = '';\n",
              "          dataTable['output_type'] = 'display_data';\n",
              "          await google.colab.output.renderOutput(dataTable, element);\n",
              "          const docLink = document.createElement('div');\n",
              "          docLink.innerHTML = docLinkHtml;\n",
              "          element.appendChild(docLink);\n",
              "        }\n",
              "      </script>\n",
              "    </div>\n",
              "  </div>\n",
              "  "
            ]
          },
          "metadata": {},
          "execution_count": 27
        }
      ]
    },
    {
      "cell_type": "markdown",
      "source": [
        "The next step is to drop the column and rerun the model without that column and rerun the model with the remaining columns"
      ],
      "metadata": {
        "id": "io7c5_H3klRs"
      }
    },
    {
      "cell_type": "code",
      "source": [
        "# This loop reiterates through the dataset and drops columns with high p_values until the model is good \n",
        "#Backward Elimination\n",
        "features = list(true_train_dataset.columns)\n",
        "columns_removed ={}\n",
        "pmax = 1\n",
        "while (len(features)>0):\n",
        "    verbose = False\n",
        "    p= []\n",
        "    X_1 = true_train_dataset[features]\n",
        "    X_1 = sm.add_constant(X_1)\n",
        "    model3 = sm.OLS(Y,X_1).fit()\n",
        "    p = pd.Series(model3.pvalues.values[1:],index = features)      \n",
        "    pmax = max(p)\n",
        "    feature_with_p_max = p.idxmax()\n",
        "    if(pmax>0.05):\n",
        "        #columns_removed.append(feature_with_p_max)\n",
        "        features.remove(feature_with_p_max)\n",
        "        columns_removed[feature_with_p_max] = \\\n",
        "           pmax\n",
        "    else:\n",
        "        break\n",
        "\n",
        "# list of selected features using backward elimation        \n",
        "selected_features_BE = features"
      ],
      "metadata": {
        "collapsed": true,
        "id": "gbRKV4e1Y1Gv",
        "outputId": "3b694715-2cd4-4510-b3a1-9beabe0db9c4",
        "colab": {
          "base_uri": "https://localhost:8080/"
        }
      },
      "execution_count": null,
      "outputs": [
        {
          "output_type": "stream",
          "name": "stderr",
          "text": [
            "/usr/local/lib/python3.7/dist-packages/statsmodels/tsa/tsatools.py:142: FutureWarning: In a future version of pandas all arguments of concat except for the argument 'objs' will be keyword-only\n",
            "  x = pd.concat(x[::order], 1)\n",
            "/usr/local/lib/python3.7/dist-packages/statsmodels/tsa/tsatools.py:142: FutureWarning: In a future version of pandas all arguments of concat except for the argument 'objs' will be keyword-only\n",
            "  x = pd.concat(x[::order], 1)\n",
            "/usr/local/lib/python3.7/dist-packages/statsmodels/tsa/tsatools.py:142: FutureWarning: In a future version of pandas all arguments of concat except for the argument 'objs' will be keyword-only\n",
            "  x = pd.concat(x[::order], 1)\n",
            "/usr/local/lib/python3.7/dist-packages/statsmodels/tsa/tsatools.py:142: FutureWarning: In a future version of pandas all arguments of concat except for the argument 'objs' will be keyword-only\n",
            "  x = pd.concat(x[::order], 1)\n",
            "/usr/local/lib/python3.7/dist-packages/statsmodels/tsa/tsatools.py:142: FutureWarning: In a future version of pandas all arguments of concat except for the argument 'objs' will be keyword-only\n",
            "  x = pd.concat(x[::order], 1)\n",
            "/usr/local/lib/python3.7/dist-packages/statsmodels/tsa/tsatools.py:142: FutureWarning: In a future version of pandas all arguments of concat except for the argument 'objs' will be keyword-only\n",
            "  x = pd.concat(x[::order], 1)\n",
            "/usr/local/lib/python3.7/dist-packages/statsmodels/tsa/tsatools.py:142: FutureWarning: In a future version of pandas all arguments of concat except for the argument 'objs' will be keyword-only\n",
            "  x = pd.concat(x[::order], 1)\n",
            "/usr/local/lib/python3.7/dist-packages/statsmodels/tsa/tsatools.py:142: FutureWarning: In a future version of pandas all arguments of concat except for the argument 'objs' will be keyword-only\n",
            "  x = pd.concat(x[::order], 1)\n",
            "/usr/local/lib/python3.7/dist-packages/statsmodels/tsa/tsatools.py:142: FutureWarning: In a future version of pandas all arguments of concat except for the argument 'objs' will be keyword-only\n",
            "  x = pd.concat(x[::order], 1)\n",
            "/usr/local/lib/python3.7/dist-packages/statsmodels/tsa/tsatools.py:142: FutureWarning: In a future version of pandas all arguments of concat except for the argument 'objs' will be keyword-only\n",
            "  x = pd.concat(x[::order], 1)\n",
            "/usr/local/lib/python3.7/dist-packages/statsmodels/tsa/tsatools.py:142: FutureWarning: In a future version of pandas all arguments of concat except for the argument 'objs' will be keyword-only\n",
            "  x = pd.concat(x[::order], 1)\n",
            "/usr/local/lib/python3.7/dist-packages/statsmodels/tsa/tsatools.py:142: FutureWarning: In a future version of pandas all arguments of concat except for the argument 'objs' will be keyword-only\n",
            "  x = pd.concat(x[::order], 1)\n",
            "/usr/local/lib/python3.7/dist-packages/statsmodels/tsa/tsatools.py:142: FutureWarning: In a future version of pandas all arguments of concat except for the argument 'objs' will be keyword-only\n",
            "  x = pd.concat(x[::order], 1)\n",
            "/usr/local/lib/python3.7/dist-packages/statsmodels/tsa/tsatools.py:142: FutureWarning: In a future version of pandas all arguments of concat except for the argument 'objs' will be keyword-only\n",
            "  x = pd.concat(x[::order], 1)\n",
            "/usr/local/lib/python3.7/dist-packages/statsmodels/tsa/tsatools.py:142: FutureWarning: In a future version of pandas all arguments of concat except for the argument 'objs' will be keyword-only\n",
            "  x = pd.concat(x[::order], 1)\n",
            "/usr/local/lib/python3.7/dist-packages/statsmodels/tsa/tsatools.py:142: FutureWarning: In a future version of pandas all arguments of concat except for the argument 'objs' will be keyword-only\n",
            "  x = pd.concat(x[::order], 1)\n",
            "/usr/local/lib/python3.7/dist-packages/statsmodels/tsa/tsatools.py:142: FutureWarning: In a future version of pandas all arguments of concat except for the argument 'objs' will be keyword-only\n",
            "  x = pd.concat(x[::order], 1)\n",
            "/usr/local/lib/python3.7/dist-packages/statsmodels/tsa/tsatools.py:142: FutureWarning: In a future version of pandas all arguments of concat except for the argument 'objs' will be keyword-only\n",
            "  x = pd.concat(x[::order], 1)\n",
            "/usr/local/lib/python3.7/dist-packages/statsmodels/tsa/tsatools.py:142: FutureWarning: In a future version of pandas all arguments of concat except for the argument 'objs' will be keyword-only\n",
            "  x = pd.concat(x[::order], 1)\n",
            "/usr/local/lib/python3.7/dist-packages/statsmodels/tsa/tsatools.py:142: FutureWarning: In a future version of pandas all arguments of concat except for the argument 'objs' will be keyword-only\n",
            "  x = pd.concat(x[::order], 1)\n",
            "/usr/local/lib/python3.7/dist-packages/statsmodels/tsa/tsatools.py:142: FutureWarning: In a future version of pandas all arguments of concat except for the argument 'objs' will be keyword-only\n",
            "  x = pd.concat(x[::order], 1)\n",
            "/usr/local/lib/python3.7/dist-packages/statsmodels/tsa/tsatools.py:142: FutureWarning: In a future version of pandas all arguments of concat except for the argument 'objs' will be keyword-only\n",
            "  x = pd.concat(x[::order], 1)\n",
            "/usr/local/lib/python3.7/dist-packages/statsmodels/tsa/tsatools.py:142: FutureWarning: In a future version of pandas all arguments of concat except for the argument 'objs' will be keyword-only\n",
            "  x = pd.concat(x[::order], 1)\n",
            "/usr/local/lib/python3.7/dist-packages/statsmodels/tsa/tsatools.py:142: FutureWarning: In a future version of pandas all arguments of concat except for the argument 'objs' will be keyword-only\n",
            "  x = pd.concat(x[::order], 1)\n",
            "/usr/local/lib/python3.7/dist-packages/statsmodels/tsa/tsatools.py:142: FutureWarning: In a future version of pandas all arguments of concat except for the argument 'objs' will be keyword-only\n",
            "  x = pd.concat(x[::order], 1)\n",
            "/usr/local/lib/python3.7/dist-packages/statsmodels/tsa/tsatools.py:142: FutureWarning: In a future version of pandas all arguments of concat except for the argument 'objs' will be keyword-only\n",
            "  x = pd.concat(x[::order], 1)\n",
            "/usr/local/lib/python3.7/dist-packages/statsmodels/tsa/tsatools.py:142: FutureWarning: In a future version of pandas all arguments of concat except for the argument 'objs' will be keyword-only\n",
            "  x = pd.concat(x[::order], 1)\n",
            "/usr/local/lib/python3.7/dist-packages/statsmodels/tsa/tsatools.py:142: FutureWarning: In a future version of pandas all arguments of concat except for the argument 'objs' will be keyword-only\n",
            "  x = pd.concat(x[::order], 1)\n",
            "/usr/local/lib/python3.7/dist-packages/statsmodels/tsa/tsatools.py:142: FutureWarning: In a future version of pandas all arguments of concat except for the argument 'objs' will be keyword-only\n",
            "  x = pd.concat(x[::order], 1)\n",
            "/usr/local/lib/python3.7/dist-packages/statsmodels/tsa/tsatools.py:142: FutureWarning: In a future version of pandas all arguments of concat except for the argument 'objs' will be keyword-only\n",
            "  x = pd.concat(x[::order], 1)\n",
            "/usr/local/lib/python3.7/dist-packages/statsmodels/tsa/tsatools.py:142: FutureWarning: In a future version of pandas all arguments of concat except for the argument 'objs' will be keyword-only\n",
            "  x = pd.concat(x[::order], 1)\n",
            "/usr/local/lib/python3.7/dist-packages/statsmodels/tsa/tsatools.py:142: FutureWarning: In a future version of pandas all arguments of concat except for the argument 'objs' will be keyword-only\n",
            "  x = pd.concat(x[::order], 1)\n",
            "/usr/local/lib/python3.7/dist-packages/statsmodels/tsa/tsatools.py:142: FutureWarning: In a future version of pandas all arguments of concat except for the argument 'objs' will be keyword-only\n",
            "  x = pd.concat(x[::order], 1)\n",
            "/usr/local/lib/python3.7/dist-packages/statsmodels/tsa/tsatools.py:142: FutureWarning: In a future version of pandas all arguments of concat except for the argument 'objs' will be keyword-only\n",
            "  x = pd.concat(x[::order], 1)\n",
            "/usr/local/lib/python3.7/dist-packages/statsmodels/tsa/tsatools.py:142: FutureWarning: In a future version of pandas all arguments of concat except for the argument 'objs' will be keyword-only\n",
            "  x = pd.concat(x[::order], 1)\n",
            "/usr/local/lib/python3.7/dist-packages/statsmodels/tsa/tsatools.py:142: FutureWarning: In a future version of pandas all arguments of concat except for the argument 'objs' will be keyword-only\n",
            "  x = pd.concat(x[::order], 1)\n",
            "/usr/local/lib/python3.7/dist-packages/statsmodels/tsa/tsatools.py:142: FutureWarning: In a future version of pandas all arguments of concat except for the argument 'objs' will be keyword-only\n",
            "  x = pd.concat(x[::order], 1)\n",
            "/usr/local/lib/python3.7/dist-packages/statsmodels/tsa/tsatools.py:142: FutureWarning: In a future version of pandas all arguments of concat except for the argument 'objs' will be keyword-only\n",
            "  x = pd.concat(x[::order], 1)\n",
            "/usr/local/lib/python3.7/dist-packages/statsmodels/tsa/tsatools.py:142: FutureWarning: In a future version of pandas all arguments of concat except for the argument 'objs' will be keyword-only\n",
            "  x = pd.concat(x[::order], 1)\n",
            "/usr/local/lib/python3.7/dist-packages/statsmodels/tsa/tsatools.py:142: FutureWarning: In a future version of pandas all arguments of concat except for the argument 'objs' will be keyword-only\n",
            "  x = pd.concat(x[::order], 1)\n",
            "/usr/local/lib/python3.7/dist-packages/statsmodels/tsa/tsatools.py:142: FutureWarning: In a future version of pandas all arguments of concat except for the argument 'objs' will be keyword-only\n",
            "  x = pd.concat(x[::order], 1)\n",
            "/usr/local/lib/python3.7/dist-packages/statsmodels/tsa/tsatools.py:142: FutureWarning: In a future version of pandas all arguments of concat except for the argument 'objs' will be keyword-only\n",
            "  x = pd.concat(x[::order], 1)\n",
            "/usr/local/lib/python3.7/dist-packages/statsmodels/tsa/tsatools.py:142: FutureWarning: In a future version of pandas all arguments of concat except for the argument 'objs' will be keyword-only\n",
            "  x = pd.concat(x[::order], 1)\n",
            "/usr/local/lib/python3.7/dist-packages/statsmodels/tsa/tsatools.py:142: FutureWarning: In a future version of pandas all arguments of concat except for the argument 'objs' will be keyword-only\n",
            "  x = pd.concat(x[::order], 1)\n",
            "/usr/local/lib/python3.7/dist-packages/statsmodels/tsa/tsatools.py:142: FutureWarning: In a future version of pandas all arguments of concat except for the argument 'objs' will be keyword-only\n",
            "  x = pd.concat(x[::order], 1)\n",
            "/usr/local/lib/python3.7/dist-packages/statsmodels/tsa/tsatools.py:142: FutureWarning: In a future version of pandas all arguments of concat except for the argument 'objs' will be keyword-only\n",
            "  x = pd.concat(x[::order], 1)\n",
            "/usr/local/lib/python3.7/dist-packages/statsmodels/tsa/tsatools.py:142: FutureWarning: In a future version of pandas all arguments of concat except for the argument 'objs' will be keyword-only\n",
            "  x = pd.concat(x[::order], 1)\n",
            "/usr/local/lib/python3.7/dist-packages/statsmodels/tsa/tsatools.py:142: FutureWarning: In a future version of pandas all arguments of concat except for the argument 'objs' will be keyword-only\n",
            "  x = pd.concat(x[::order], 1)\n",
            "/usr/local/lib/python3.7/dist-packages/statsmodels/tsa/tsatools.py:142: FutureWarning: In a future version of pandas all arguments of concat except for the argument 'objs' will be keyword-only\n",
            "  x = pd.concat(x[::order], 1)\n",
            "/usr/local/lib/python3.7/dist-packages/statsmodels/tsa/tsatools.py:142: FutureWarning: In a future version of pandas all arguments of concat except for the argument 'objs' will be keyword-only\n",
            "  x = pd.concat(x[::order], 1)\n",
            "/usr/local/lib/python3.7/dist-packages/statsmodels/tsa/tsatools.py:142: FutureWarning: In a future version of pandas all arguments of concat except for the argument 'objs' will be keyword-only\n",
            "  x = pd.concat(x[::order], 1)\n",
            "/usr/local/lib/python3.7/dist-packages/statsmodels/tsa/tsatools.py:142: FutureWarning: In a future version of pandas all arguments of concat except for the argument 'objs' will be keyword-only\n",
            "  x = pd.concat(x[::order], 1)\n",
            "/usr/local/lib/python3.7/dist-packages/statsmodels/tsa/tsatools.py:142: FutureWarning: In a future version of pandas all arguments of concat except for the argument 'objs' will be keyword-only\n",
            "  x = pd.concat(x[::order], 1)\n",
            "/usr/local/lib/python3.7/dist-packages/statsmodels/tsa/tsatools.py:142: FutureWarning: In a future version of pandas all arguments of concat except for the argument 'objs' will be keyword-only\n",
            "  x = pd.concat(x[::order], 1)\n",
            "/usr/local/lib/python3.7/dist-packages/statsmodels/tsa/tsatools.py:142: FutureWarning: In a future version of pandas all arguments of concat except for the argument 'objs' will be keyword-only\n",
            "  x = pd.concat(x[::order], 1)\n",
            "/usr/local/lib/python3.7/dist-packages/statsmodels/tsa/tsatools.py:142: FutureWarning: In a future version of pandas all arguments of concat except for the argument 'objs' will be keyword-only\n",
            "  x = pd.concat(x[::order], 1)\n",
            "/usr/local/lib/python3.7/dist-packages/statsmodels/tsa/tsatools.py:142: FutureWarning: In a future version of pandas all arguments of concat except for the argument 'objs' will be keyword-only\n",
            "  x = pd.concat(x[::order], 1)\n",
            "/usr/local/lib/python3.7/dist-packages/statsmodels/tsa/tsatools.py:142: FutureWarning: In a future version of pandas all arguments of concat except for the argument 'objs' will be keyword-only\n",
            "  x = pd.concat(x[::order], 1)\n",
            "/usr/local/lib/python3.7/dist-packages/statsmodels/tsa/tsatools.py:142: FutureWarning: In a future version of pandas all arguments of concat except for the argument 'objs' will be keyword-only\n",
            "  x = pd.concat(x[::order], 1)\n",
            "/usr/local/lib/python3.7/dist-packages/statsmodels/tsa/tsatools.py:142: FutureWarning: In a future version of pandas all arguments of concat except for the argument 'objs' will be keyword-only\n",
            "  x = pd.concat(x[::order], 1)\n",
            "/usr/local/lib/python3.7/dist-packages/statsmodels/tsa/tsatools.py:142: FutureWarning: In a future version of pandas all arguments of concat except for the argument 'objs' will be keyword-only\n",
            "  x = pd.concat(x[::order], 1)\n",
            "/usr/local/lib/python3.7/dist-packages/statsmodels/tsa/tsatools.py:142: FutureWarning: In a future version of pandas all arguments of concat except for the argument 'objs' will be keyword-only\n",
            "  x = pd.concat(x[::order], 1)\n",
            "/usr/local/lib/python3.7/dist-packages/statsmodels/tsa/tsatools.py:142: FutureWarning: In a future version of pandas all arguments of concat except for the argument 'objs' will be keyword-only\n",
            "  x = pd.concat(x[::order], 1)\n",
            "/usr/local/lib/python3.7/dist-packages/statsmodels/tsa/tsatools.py:142: FutureWarning: In a future version of pandas all arguments of concat except for the argument 'objs' will be keyword-only\n",
            "  x = pd.concat(x[::order], 1)\n",
            "/usr/local/lib/python3.7/dist-packages/statsmodels/tsa/tsatools.py:142: FutureWarning: In a future version of pandas all arguments of concat except for the argument 'objs' will be keyword-only\n",
            "  x = pd.concat(x[::order], 1)\n",
            "/usr/local/lib/python3.7/dist-packages/statsmodels/tsa/tsatools.py:142: FutureWarning: In a future version of pandas all arguments of concat except for the argument 'objs' will be keyword-only\n",
            "  x = pd.concat(x[::order], 1)\n",
            "/usr/local/lib/python3.7/dist-packages/statsmodels/tsa/tsatools.py:142: FutureWarning: In a future version of pandas all arguments of concat except for the argument 'objs' will be keyword-only\n",
            "  x = pd.concat(x[::order], 1)\n",
            "/usr/local/lib/python3.7/dist-packages/statsmodels/tsa/tsatools.py:142: FutureWarning: In a future version of pandas all arguments of concat except for the argument 'objs' will be keyword-only\n",
            "  x = pd.concat(x[::order], 1)\n",
            "/usr/local/lib/python3.7/dist-packages/statsmodels/tsa/tsatools.py:142: FutureWarning: In a future version of pandas all arguments of concat except for the argument 'objs' will be keyword-only\n",
            "  x = pd.concat(x[::order], 1)\n",
            "/usr/local/lib/python3.7/dist-packages/statsmodels/tsa/tsatools.py:142: FutureWarning: In a future version of pandas all arguments of concat except for the argument 'objs' will be keyword-only\n",
            "  x = pd.concat(x[::order], 1)\n",
            "/usr/local/lib/python3.7/dist-packages/statsmodels/tsa/tsatools.py:142: FutureWarning: In a future version of pandas all arguments of concat except for the argument 'objs' will be keyword-only\n",
            "  x = pd.concat(x[::order], 1)\n",
            "/usr/local/lib/python3.7/dist-packages/statsmodels/tsa/tsatools.py:142: FutureWarning: In a future version of pandas all arguments of concat except for the argument 'objs' will be keyword-only\n",
            "  x = pd.concat(x[::order], 1)\n",
            "/usr/local/lib/python3.7/dist-packages/statsmodels/tsa/tsatools.py:142: FutureWarning: In a future version of pandas all arguments of concat except for the argument 'objs' will be keyword-only\n",
            "  x = pd.concat(x[::order], 1)\n",
            "/usr/local/lib/python3.7/dist-packages/statsmodels/tsa/tsatools.py:142: FutureWarning: In a future version of pandas all arguments of concat except for the argument 'objs' will be keyword-only\n",
            "  x = pd.concat(x[::order], 1)\n",
            "/usr/local/lib/python3.7/dist-packages/statsmodels/tsa/tsatools.py:142: FutureWarning: In a future version of pandas all arguments of concat except for the argument 'objs' will be keyword-only\n",
            "  x = pd.concat(x[::order], 1)\n",
            "/usr/local/lib/python3.7/dist-packages/statsmodels/tsa/tsatools.py:142: FutureWarning: In a future version of pandas all arguments of concat except for the argument 'objs' will be keyword-only\n",
            "  x = pd.concat(x[::order], 1)\n",
            "/usr/local/lib/python3.7/dist-packages/statsmodels/tsa/tsatools.py:142: FutureWarning: In a future version of pandas all arguments of concat except for the argument 'objs' will be keyword-only\n",
            "  x = pd.concat(x[::order], 1)\n",
            "/usr/local/lib/python3.7/dist-packages/statsmodels/tsa/tsatools.py:142: FutureWarning: In a future version of pandas all arguments of concat except for the argument 'objs' will be keyword-only\n",
            "  x = pd.concat(x[::order], 1)\n",
            "/usr/local/lib/python3.7/dist-packages/statsmodels/tsa/tsatools.py:142: FutureWarning: In a future version of pandas all arguments of concat except for the argument 'objs' will be keyword-only\n",
            "  x = pd.concat(x[::order], 1)\n",
            "/usr/local/lib/python3.7/dist-packages/statsmodels/tsa/tsatools.py:142: FutureWarning: In a future version of pandas all arguments of concat except for the argument 'objs' will be keyword-only\n",
            "  x = pd.concat(x[::order], 1)\n",
            "/usr/local/lib/python3.7/dist-packages/statsmodels/tsa/tsatools.py:142: FutureWarning: In a future version of pandas all arguments of concat except for the argument 'objs' will be keyword-only\n",
            "  x = pd.concat(x[::order], 1)\n",
            "/usr/local/lib/python3.7/dist-packages/statsmodels/tsa/tsatools.py:142: FutureWarning: In a future version of pandas all arguments of concat except for the argument 'objs' will be keyword-only\n",
            "  x = pd.concat(x[::order], 1)\n",
            "/usr/local/lib/python3.7/dist-packages/statsmodels/tsa/tsatools.py:142: FutureWarning: In a future version of pandas all arguments of concat except for the argument 'objs' will be keyword-only\n",
            "  x = pd.concat(x[::order], 1)\n",
            "/usr/local/lib/python3.7/dist-packages/statsmodels/tsa/tsatools.py:142: FutureWarning: In a future version of pandas all arguments of concat except for the argument 'objs' will be keyword-only\n",
            "  x = pd.concat(x[::order], 1)\n",
            "/usr/local/lib/python3.7/dist-packages/statsmodels/tsa/tsatools.py:142: FutureWarning: In a future version of pandas all arguments of concat except for the argument 'objs' will be keyword-only\n",
            "  x = pd.concat(x[::order], 1)\n",
            "/usr/local/lib/python3.7/dist-packages/statsmodels/tsa/tsatools.py:142: FutureWarning: In a future version of pandas all arguments of concat except for the argument 'objs' will be keyword-only\n",
            "  x = pd.concat(x[::order], 1)\n",
            "/usr/local/lib/python3.7/dist-packages/statsmodels/tsa/tsatools.py:142: FutureWarning: In a future version of pandas all arguments of concat except for the argument 'objs' will be keyword-only\n",
            "  x = pd.concat(x[::order], 1)\n",
            "/usr/local/lib/python3.7/dist-packages/statsmodels/tsa/tsatools.py:142: FutureWarning: In a future version of pandas all arguments of concat except for the argument 'objs' will be keyword-only\n",
            "  x = pd.concat(x[::order], 1)\n",
            "/usr/local/lib/python3.7/dist-packages/statsmodels/tsa/tsatools.py:142: FutureWarning: In a future version of pandas all arguments of concat except for the argument 'objs' will be keyword-only\n",
            "  x = pd.concat(x[::order], 1)\n",
            "/usr/local/lib/python3.7/dist-packages/statsmodels/tsa/tsatools.py:142: FutureWarning: In a future version of pandas all arguments of concat except for the argument 'objs' will be keyword-only\n",
            "  x = pd.concat(x[::order], 1)\n",
            "/usr/local/lib/python3.7/dist-packages/statsmodels/tsa/tsatools.py:142: FutureWarning: In a future version of pandas all arguments of concat except for the argument 'objs' will be keyword-only\n",
            "  x = pd.concat(x[::order], 1)\n",
            "/usr/local/lib/python3.7/dist-packages/statsmodels/tsa/tsatools.py:142: FutureWarning: In a future version of pandas all arguments of concat except for the argument 'objs' will be keyword-only\n",
            "  x = pd.concat(x[::order], 1)\n",
            "/usr/local/lib/python3.7/dist-packages/statsmodels/tsa/tsatools.py:142: FutureWarning: In a future version of pandas all arguments of concat except for the argument 'objs' will be keyword-only\n",
            "  x = pd.concat(x[::order], 1)\n",
            "/usr/local/lib/python3.7/dist-packages/statsmodels/tsa/tsatools.py:142: FutureWarning: In a future version of pandas all arguments of concat except for the argument 'objs' will be keyword-only\n",
            "  x = pd.concat(x[::order], 1)\n",
            "/usr/local/lib/python3.7/dist-packages/statsmodels/tsa/tsatools.py:142: FutureWarning: In a future version of pandas all arguments of concat except for the argument 'objs' will be keyword-only\n",
            "  x = pd.concat(x[::order], 1)\n",
            "/usr/local/lib/python3.7/dist-packages/statsmodels/tsa/tsatools.py:142: FutureWarning: In a future version of pandas all arguments of concat except for the argument 'objs' will be keyword-only\n",
            "  x = pd.concat(x[::order], 1)\n",
            "/usr/local/lib/python3.7/dist-packages/statsmodels/tsa/tsatools.py:142: FutureWarning: In a future version of pandas all arguments of concat except for the argument 'objs' will be keyword-only\n",
            "  x = pd.concat(x[::order], 1)\n",
            "/usr/local/lib/python3.7/dist-packages/statsmodels/tsa/tsatools.py:142: FutureWarning: In a future version of pandas all arguments of concat except for the argument 'objs' will be keyword-only\n",
            "  x = pd.concat(x[::order], 1)\n",
            "/usr/local/lib/python3.7/dist-packages/statsmodels/tsa/tsatools.py:142: FutureWarning: In a future version of pandas all arguments of concat except for the argument 'objs' will be keyword-only\n",
            "  x = pd.concat(x[::order], 1)\n",
            "/usr/local/lib/python3.7/dist-packages/statsmodels/tsa/tsatools.py:142: FutureWarning: In a future version of pandas all arguments of concat except for the argument 'objs' will be keyword-only\n",
            "  x = pd.concat(x[::order], 1)\n",
            "/usr/local/lib/python3.7/dist-packages/statsmodels/tsa/tsatools.py:142: FutureWarning: In a future version of pandas all arguments of concat except for the argument 'objs' will be keyword-only\n",
            "  x = pd.concat(x[::order], 1)\n",
            "/usr/local/lib/python3.7/dist-packages/statsmodels/tsa/tsatools.py:142: FutureWarning: In a future version of pandas all arguments of concat except for the argument 'objs' will be keyword-only\n",
            "  x = pd.concat(x[::order], 1)\n",
            "/usr/local/lib/python3.7/dist-packages/statsmodels/tsa/tsatools.py:142: FutureWarning: In a future version of pandas all arguments of concat except for the argument 'objs' will be keyword-only\n",
            "  x = pd.concat(x[::order], 1)\n",
            "/usr/local/lib/python3.7/dist-packages/statsmodels/tsa/tsatools.py:142: FutureWarning: In a future version of pandas all arguments of concat except for the argument 'objs' will be keyword-only\n",
            "  x = pd.concat(x[::order], 1)\n",
            "/usr/local/lib/python3.7/dist-packages/statsmodels/tsa/tsatools.py:142: FutureWarning: In a future version of pandas all arguments of concat except for the argument 'objs' will be keyword-only\n",
            "  x = pd.concat(x[::order], 1)\n",
            "/usr/local/lib/python3.7/dist-packages/statsmodels/tsa/tsatools.py:142: FutureWarning: In a future version of pandas all arguments of concat except for the argument 'objs' will be keyword-only\n",
            "  x = pd.concat(x[::order], 1)\n",
            "/usr/local/lib/python3.7/dist-packages/statsmodels/tsa/tsatools.py:142: FutureWarning: In a future version of pandas all arguments of concat except for the argument 'objs' will be keyword-only\n",
            "  x = pd.concat(x[::order], 1)\n",
            "/usr/local/lib/python3.7/dist-packages/statsmodels/tsa/tsatools.py:142: FutureWarning: In a future version of pandas all arguments of concat except for the argument 'objs' will be keyword-only\n",
            "  x = pd.concat(x[::order], 1)\n",
            "/usr/local/lib/python3.7/dist-packages/statsmodels/tsa/tsatools.py:142: FutureWarning: In a future version of pandas all arguments of concat except for the argument 'objs' will be keyword-only\n",
            "  x = pd.concat(x[::order], 1)\n",
            "/usr/local/lib/python3.7/dist-packages/statsmodels/tsa/tsatools.py:142: FutureWarning: In a future version of pandas all arguments of concat except for the argument 'objs' will be keyword-only\n",
            "  x = pd.concat(x[::order], 1)\n",
            "/usr/local/lib/python3.7/dist-packages/statsmodels/tsa/tsatools.py:142: FutureWarning: In a future version of pandas all arguments of concat except for the argument 'objs' will be keyword-only\n",
            "  x = pd.concat(x[::order], 1)\n",
            "/usr/local/lib/python3.7/dist-packages/statsmodels/tsa/tsatools.py:142: FutureWarning: In a future version of pandas all arguments of concat except for the argument 'objs' will be keyword-only\n",
            "  x = pd.concat(x[::order], 1)\n",
            "/usr/local/lib/python3.7/dist-packages/statsmodels/tsa/tsatools.py:142: FutureWarning: In a future version of pandas all arguments of concat except for the argument 'objs' will be keyword-only\n",
            "  x = pd.concat(x[::order], 1)\n",
            "/usr/local/lib/python3.7/dist-packages/statsmodels/tsa/tsatools.py:142: FutureWarning: In a future version of pandas all arguments of concat except for the argument 'objs' will be keyword-only\n",
            "  x = pd.concat(x[::order], 1)\n",
            "/usr/local/lib/python3.7/dist-packages/statsmodels/tsa/tsatools.py:142: FutureWarning: In a future version of pandas all arguments of concat except for the argument 'objs' will be keyword-only\n",
            "  x = pd.concat(x[::order], 1)\n",
            "/usr/local/lib/python3.7/dist-packages/statsmodels/tsa/tsatools.py:142: FutureWarning: In a future version of pandas all arguments of concat except for the argument 'objs' will be keyword-only\n",
            "  x = pd.concat(x[::order], 1)\n",
            "/usr/local/lib/python3.7/dist-packages/statsmodels/tsa/tsatools.py:142: FutureWarning: In a future version of pandas all arguments of concat except for the argument 'objs' will be keyword-only\n",
            "  x = pd.concat(x[::order], 1)\n",
            "/usr/local/lib/python3.7/dist-packages/statsmodels/tsa/tsatools.py:142: FutureWarning: In a future version of pandas all arguments of concat except for the argument 'objs' will be keyword-only\n",
            "  x = pd.concat(x[::order], 1)\n",
            "/usr/local/lib/python3.7/dist-packages/statsmodels/tsa/tsatools.py:142: FutureWarning: In a future version of pandas all arguments of concat except for the argument 'objs' will be keyword-only\n",
            "  x = pd.concat(x[::order], 1)\n",
            "/usr/local/lib/python3.7/dist-packages/statsmodels/tsa/tsatools.py:142: FutureWarning: In a future version of pandas all arguments of concat except for the argument 'objs' will be keyword-only\n",
            "  x = pd.concat(x[::order], 1)\n",
            "/usr/local/lib/python3.7/dist-packages/statsmodels/tsa/tsatools.py:142: FutureWarning: In a future version of pandas all arguments of concat except for the argument 'objs' will be keyword-only\n",
            "  x = pd.concat(x[::order], 1)\n",
            "/usr/local/lib/python3.7/dist-packages/statsmodels/tsa/tsatools.py:142: FutureWarning: In a future version of pandas all arguments of concat except for the argument 'objs' will be keyword-only\n",
            "  x = pd.concat(x[::order], 1)\n",
            "/usr/local/lib/python3.7/dist-packages/statsmodels/tsa/tsatools.py:142: FutureWarning: In a future version of pandas all arguments of concat except for the argument 'objs' will be keyword-only\n",
            "  x = pd.concat(x[::order], 1)\n",
            "/usr/local/lib/python3.7/dist-packages/statsmodels/tsa/tsatools.py:142: FutureWarning: In a future version of pandas all arguments of concat except for the argument 'objs' will be keyword-only\n",
            "  x = pd.concat(x[::order], 1)\n",
            "/usr/local/lib/python3.7/dist-packages/statsmodels/tsa/tsatools.py:142: FutureWarning: In a future version of pandas all arguments of concat except for the argument 'objs' will be keyword-only\n",
            "  x = pd.concat(x[::order], 1)\n",
            "/usr/local/lib/python3.7/dist-packages/statsmodels/tsa/tsatools.py:142: FutureWarning: In a future version of pandas all arguments of concat except for the argument 'objs' will be keyword-only\n",
            "  x = pd.concat(x[::order], 1)\n",
            "/usr/local/lib/python3.7/dist-packages/statsmodels/tsa/tsatools.py:142: FutureWarning: In a future version of pandas all arguments of concat except for the argument 'objs' will be keyword-only\n",
            "  x = pd.concat(x[::order], 1)\n",
            "/usr/local/lib/python3.7/dist-packages/statsmodels/tsa/tsatools.py:142: FutureWarning: In a future version of pandas all arguments of concat except for the argument 'objs' will be keyword-only\n",
            "  x = pd.concat(x[::order], 1)\n",
            "/usr/local/lib/python3.7/dist-packages/statsmodels/tsa/tsatools.py:142: FutureWarning: In a future version of pandas all arguments of concat except for the argument 'objs' will be keyword-only\n",
            "  x = pd.concat(x[::order], 1)\n",
            "/usr/local/lib/python3.7/dist-packages/statsmodels/tsa/tsatools.py:142: FutureWarning: In a future version of pandas all arguments of concat except for the argument 'objs' will be keyword-only\n",
            "  x = pd.concat(x[::order], 1)\n"
          ]
        }
      ]
    },
    {
      "cell_type": "markdown",
      "source": [
        "We have a list of features we believe should give us a better prediction after using the backward elimination method"
      ],
      "metadata": {
        "id": "s1aeSq_4M2xf"
      }
    },
    {
      "cell_type": "code",
      "source": [
        "# number of selected features to use\n",
        "print(\"Number of features removes: {}\".format(len(columns_removed)))\n",
        "print(\"Number of Features:{}\".format(len(selected_features_BE)))\n",
        "print(\"Selected features are: {}\".format(selected_features_BE))"
      ],
      "metadata": {
        "id": "YISf5rO2Nf_e",
        "outputId": "4133b957-4dd1-4a78-eaed-7f5835cc8a30",
        "colab": {
          "base_uri": "https://localhost:8080/"
        }
      },
      "execution_count": null,
      "outputs": [
        {
          "output_type": "stream",
          "name": "stdout",
          "text": [
            "Number of features removes: 129\n",
            "Number of Features:107\n",
            "Selected features are: ['LotFrontage', 'LotArea', 'OverallQual', 'OverallCond', 'YearBuilt', 'YearRemodAdd', 'ExterCond', 'BsmtQual', 'BsmtExposure', 'BsmtFinSF1', 'BsmtFinSF2', 'TotalBsmtSF', 'HeatingQC', 'GrLivArea', 'BsmtFullBath', 'FullBath', 'HalfBath', 'KitchenAbvGr', 'KitchenQual', 'Fireplaces', 'GarageArea', 'WoodDeckSF', 'ScreenPorch', 'MSZoning_FV', 'MSZoning_RH', 'MSZoning_RL', 'MSZoning_RM', 'Street_Grvl', 'Street_Pave', 'LotShape_IR1', 'LotShape_IR2', 'LotShape_IR3', 'LotShape_Reg', 'LandContour_Bnk', 'LandContour_HLS', 'LandContour_Low', 'LandContour_Lvl', 'Utilities_AllPub', 'Utilities_NoSeWa', 'LotConfig_Corner', 'LotConfig_CulDSac', 'LotConfig_FR2', 'LotConfig_FR3', 'LotConfig_Inside', 'LandSlope_Gtl', 'LandSlope_Mod', 'LandSlope_Sev', 'Neighborhood_BrkSide', 'Neighborhood_ClearCr', 'Neighborhood_Crawfor', 'Neighborhood_Edwards', 'Neighborhood_MeadowV', 'Neighborhood_NoRidge', 'Neighborhood_NridgHt', 'Neighborhood_Somerst', 'Neighborhood_StoneBr', 'Neighborhood_Veenker', 'Condition1_Norm', 'Condition2_PosN', 'BldgType_1Fam', 'BldgType_2fmCon', 'BldgType_Duplex', 'BldgType_Twnhs', 'BldgType_TwnhsE', 'HouseStyle_2.5Unf', 'RoofMatl_ClyTile', 'RoofMatl_CompShg', 'RoofMatl_Membran', 'RoofMatl_Metal', 'RoofMatl_Roll', 'RoofMatl_Tar&Grv', 'RoofMatl_WdShake', 'RoofMatl_WdShngl', 'Exterior1st_BrkComm', 'Exterior1st_BrkFace', 'Exterior1st_MetalSd', 'Exterior2nd_CmentBd', 'Exterior2nd_VinylSd', 'MasVnrType_BrkCmn', 'MasVnrType_BrkFace', 'MasVnrType_None', 'MasVnrType_Stone', 'Foundation_PConc', 'Foundation_Stone', 'Heating_GasA', 'Heating_GasW', 'Heating_Wall', 'CentralAir_N', 'CentralAir_Y', 'Functional_Maj1', 'Functional_Min1', 'Functional_Min2', 'Functional_Mod', 'Functional_Typ', 'GarageType_None', 'GarageFinish_Fin', 'GarageFinish_None', 'GarageFinish_RFn', 'GarageFinish_Unf', 'PavedDrive_N', 'PavedDrive_P', 'PavedDrive_Y', 'SaleType_ConLD', 'SaleType_New', 'SaleType_None', 'SaleCondition_Alloca', 'SaleCondition_Normal']\n"
          ]
        }
      ]
    },
    {
      "cell_type": "code",
      "source": [
        "# creating a bar chart that shows the p_value of all the columns that were removed\n",
        "f, ax = plt.subplots(figsize=(30, 5))\n",
        "names = list(columns_removed.keys())\n",
        "values = list(columns_removed.values())\n",
        "plt.bar(range(len(columns_removed)), values, tick_label=names)\n",
        "plt.xticks(rotation=\"vertical\")\n",
        "plt.show()"
      ],
      "metadata": {
        "id": "2VpmaednZm9b",
        "outputId": "0edea956-0fb9-4c10-a2f1-0bad0d560410",
        "colab": {
          "base_uri": "https://localhost:8080/",
          "height": 288
        }
      },
      "execution_count": null,
      "outputs": [
        {
          "output_type": "display_data",
          "data": {
            "text/plain": [
              "<Figure size 2160x360 with 1 Axes>"
            ],
            "image/png": "[encoded data removed]"
          },
          "metadata": {
            "needs_background": "light"
          }
        }
      ]
    },
    {
      "cell_type": "markdown",
      "source": [
        "Based on backward elmination, a lot categorical columns that were tranformed have low significance based on the pvalues they have from each model e.g the type of neighborhood plays little role in the predicting house prices."
      ],
      "metadata": {
        "id": "mX9HuRLWaW_V"
      }
    },
    {
      "cell_type": "code",
      "source": [
        "# Our loop selected 107 features to use to get a better model\n",
        "\n",
        "### Creating a new test and train dataset with the columns choosen using backward elimination\n",
        "new_train_dataset = true_train_dataset[selected_features_BE]\n",
        "new_test_dataset = true_test_dataset[selected_features_BE]\n",
        "\n",
        "\n",
        "# creating model\n",
        "model4 = LinearRegression()\n",
        "\n",
        "# fitting the model\n",
        "model4.fit(new_train_dataset, Y)\n",
        "\n",
        "list_of_col = new_train_dataset.columns.to_list()\n"
      ],
      "metadata": {
        "id": "XlplI9q3Y1QH"
      },
      "execution_count": null,
      "outputs": []
    },
    {
      "cell_type": "markdown",
      "source": [
        "### **Final Model Accuracy**"
      ],
      "metadata": {
        "id": "ppD35BFj-G1j"
      }
    },
    {
      "cell_type": "markdown",
      "source": [
        "We need to check how well our model is doing. We are aiming to increase overall model performance on unseen data. We use cross validation to know how well our model is doing."
      ],
      "metadata": {
        "id": "XACxeGdD-WOL"
      }
    },
    {
      "cell_type": "code",
      "source": [
        "# using CV score to cross validate our model by splitting the data set into 10 for testing\n",
        "k_folds = KFold(n_splits = 5)\n",
        "\n",
        "scores = cross_val_score(model4, new_train_dataset, Y, cv = k_folds)\n",
        "\n",
        "print(\"Cross Validation Scores: \", scores)\n",
        "print(\"Average CV Score: \", scores.mean())\n",
        "print(\"Number of CV Scores used in Average: \", len(scores))"
      ],
      "metadata": {
        "id": "CWIbc-NH-VSJ",
        "outputId": "646ca7e6-c591-4d07-c1ec-d43fb989194f",
        "colab": {
          "base_uri": "https://localhost:8080/"
        }
      },
      "execution_count": null,
      "outputs": [
        {
          "output_type": "stream",
          "name": "stdout",
          "text": [
            "Cross Validation Scores:  [0.90932208 0.8851838  0.86722982 0.92693638 0.73293369]\n",
            "Average CV Score:  0.8643211561833025\n",
            "Number of CV Scores used in Average:  5\n"
          ]
        }
      ]
    },
    {
      "cell_type": "markdown",
      "source": [
        "This model is doing better compared to our first model "
      ],
      "metadata": {
        "id": "crWs8HyLPIIY"
      }
    },
    {
      "cell_type": "markdown",
      "source": [
        "Creating a residual plot to check how well the model worked on training dataset"
      ],
      "metadata": {
        "id": "Lo3CxPIE_dhd"
      }
    },
    {
      "cell_type": "code",
      "source": [
        "# using the model to predict from the train dataset\n",
        "y_pred = model4.predict(new_train_dataset)\n",
        "\n",
        "#calculating the residual which is the actual value minus the predicted value\n",
        "residuals = Y-y_pred\n",
        "\n",
        "# creating a residual plot \n",
        "plt.scatter(y = residuals,x = y_pred)\n",
        "\n",
        "plt.show()"
      ],
      "metadata": {
        "id": "kzivlCq89-xq",
        "colab": {
          "base_uri": "https://localhost:8080/",
          "height": 265
        },
        "outputId": "a1eeddc0-b2d9-4099-d7a3-868dde171fc8"
      },
      "execution_count": null,
      "outputs": [
        {
          "output_type": "display_data",
          "data": {
            "text/plain": [
              "<Figure size 432x288 with 1 Axes>"
            ],
            "image/png": "[encoded data removed]"
          },
          "metadata": {
            "needs_background": "light"
          }
        }
      ]
    },
    {
      "cell_type": "markdown",
      "source": [
        "From the residual plot, the points are close to zero which is good. However the points do not have constant variance which means our model can be improved."
      ],
      "metadata": {
        "id": "4JU4CftdPTcW"
      }
    },
    {
      "cell_type": "code",
      "source": [
        "# print out model variable coefficients\n",
        "est_coef = pd.Series(index=list_of_col, data=model4.coef_)\n",
        "\n",
        "est_order = est_coef.abs().sort_values(ascending=False).index.tolist()\n",
        "\n",
        "print(\"----- Coefficients in Linear Regressions -------\")\n",
        "for i in range(0,len(new_train_dataset.columns)-1):\n",
        "    if model4.coef_[i] == 0:\n",
        "        print(\"{}:{}\".format(list_of_col[i],model4.coef_[i]))\n",
        "        \n",
        "print('-------Top 10 Features with high estimates ---------')\n",
        "print(est_coef[est_order][:10])"
      ],
      "metadata": {
        "id": "A1wERZUprTjt",
        "colab": {
          "base_uri": "https://localhost:8080/"
        },
        "outputId": "289e849c-7b82-42d3-fbc5-5f3073dd0ac8"
      },
      "execution_count": null,
      "outputs": [
        {
          "output_type": "stream",
          "name": "stdout",
          "text": [
            "----- Coefficients in Linear Regressions -------\n",
            "SaleType_None:0.0\n",
            "-------Top 10 Features with high estimates ---------\n",
            "RoofMatl_ClyTile   -2.496388\n",
            "Condition2_PosN    -0.862393\n",
            "RoofMatl_Membran    0.600497\n",
            "RoofMatl_Metal      0.478032\n",
            "MSZoning_RH         0.418199\n",
            "MSZoning_FV         0.412944\n",
            "MSZoning_RL         0.410313\n",
            "MSZoning_RM         0.354843\n",
            "RoofMatl_WdShngl    0.326137\n",
            "Functional_Typ      0.307409\n",
            "dtype: float64\n"
          ]
        }
      ]
    },
    {
      "cell_type": "markdown",
      "source": [
        "### **Running Model on Kaggle test dataset**"
      ],
      "metadata": {
        "id": "5cMrS5tQn2cw"
      }
    },
    {
      "cell_type": "code",
      "source": [
        "# predicting numbers for kaggle test dataset\n",
        "y_pred = model4.predict(new_test_dataset)\n",
        "\n",
        "# setting predictions into data frame as in kaggle's sample submission\n",
        "submission=pd.DataFrame()\n",
        "submission['SalePrice']=np.exp(y_pred) # the sale price was logged in the beggining so we have to transform it back\n",
        "submission = submission.reset_index()\n",
        "submission = submission.rename(columns={\"index\":\"Id\"})\n",
        "submission['Id'] = submission.index + len(submission)+2\n",
        "\n",
        "# loading the data frame to csv files for submission\n",
        "submission.to_csv('project_1_submission.csv',index=False)\n",
        "  "
      ],
      "metadata": {
        "id": "Ok4JxSPdc1IE"
      },
      "execution_count": null,
      "outputs": []
    },
    {
      "cell_type": "markdown",
      "source": [
        "# **Interpretation of model**"
      ],
      "metadata": {
        "id": "TDwe83uYpT-l"
      }
    },
    {
      "cell_type": "markdown",
      "source": [
        "## **Number of variables**"
      ],
      "metadata": {
        "id": "ERa2J57S4no6"
      }
    },
    {
      "cell_type": "markdown",
      "source": [
        "\n",
        "In our final model, we've been able to improve our model by using only 107 variables instead of using all 236 variables. This suggests that the variables which were ommited such as if the Exterior covering on house is classified as other did not seem to help predict the house price.\n"
      ],
      "metadata": {
        "id": "TU1qwPD-4wmp"
      }
    },
    {
      "cell_type": "markdown",
      "source": [
        "## **Coefficient Interpretation**"
      ],
      "metadata": {
        "id": "odAjb94r49Fn"
      }
    },
    {
      "cell_type": "markdown",
      "source": [
        "-------Top 10 Features with high estimates ---------\n",
        "* RoofMatl_ClyTile:-      -2.496388\n",
        "* Condition2_PosN :-      -0.862393\n",
        "* RoofMatl_Membran:-      0.600497\n",
        "* RoofMatl_Metal:-        0.478032\n",
        "* MSZoning_RH:-         0.418199\n",
        "* MSZoning_FV:-        0.412944\n",
        "* MSZoning_RL:-         0.410313\n",
        "* MSZoning_RM:-        0.354843\n",
        "* RoofMatl_WdShngl:-    0.326137\n",
        "* Functional_Typ:-      0.307409\n",
        "\n",
        "\n",
        "According to the coefficients gotten from the model,\n",
        "  1. Roof materials\n",
        "    - a house whose roof is made with clytile clay or tile reduce the price of a house.\n",
        "   - a house with roof is made of Membrane or Metal increase the price of the house.\n",
        "  2. Proximity to various conditions (if more than one is present)\n",
        "    - Houses near positive off-site feature--park, greenbelt, etc reduce the price of house.\n",
        "  3. MS Zoning\n",
        "    - Houses in Floating Village(FV), Low Density(RL) and Medium Density(RM) increases the price of a house.\n",
        "  4. SaleType\n",
        "  - The column that shows when the type of sale is equal to none plays no role in predicting house price.\n",
        "\n",
        "\n"
      ],
      "metadata": {
        "id": "dAd-5cS7pf7S"
      }
    },
    {
      "cell_type": "markdown",
      "source": [
        "#### **Description of the top features**\n"
      ],
      "metadata": {
        "id": "fyHT8p4T4grs"
      }
    },
    {
      "cell_type": "markdown",
      "source": [
        "```\n",
        "MSZoning: Identifies the general zoning classification of the sale.\n",
        "\t\t\n",
        "       A\tAgriculture\n",
        "       C\tCommercial\n",
        "       FV\tFloating Village Residential\n",
        "       I\tIndustrial\n",
        "       RH\tResidential High Density\n",
        "       RL\tResidential Low Density\n",
        "       RP\tResidential Low Density Park \n",
        "       RM\tResidential Medium Density\n",
        "\n",
        "\tRoofMatl: Roof material\n",
        "\n",
        "       ClyTile\tClay or Tile\n",
        "       CompShg\tStandard (Composite) Shingle\n",
        "       Membran\tMembrane\n",
        "       Metal\tMetal\n",
        "       Roll\tRoll\n",
        "       Tar&Grv\tGravel & Tar\n",
        "       WdShake\tWood Shakes\n",
        "       WdShngl\tWood Shingles\n",
        "\n",
        " Condition2: Proximity to various conditions (if more than one is present)\n",
        "\t\t\n",
        "       Artery\tAdjacent to arterial street\n",
        "       Feedr\tAdjacent to feeder street\t\n",
        "       Norm\tNormal\t\n",
        "       RRNn\tWithin 200' of North-South Railroad\n",
        "       RRAn\tAdjacent to North-South Railroad\n",
        "       PosN\tNear positive off-site feature--park, greenbelt, etc.\n",
        "       PosA\tAdjacent to postive off-site feature\n",
        "       RRNe\tWithin 200' of East-West Railroad\n",
        "       RRAe\tAdjacent to East-West Railroad\n",
        "\t"
      ],
      "metadata": {
        "id": "lUK6KyTb5RYt"
      }
    },
    {
      "cell_type": "markdown",
      "source": [
        "## **Conclusion on model**"
      ],
      "metadata": {
        "id": "ttxFN7CS5fjG"
      }
    },
    {
      "cell_type": "markdown",
      "source": [
        "\n",
        "\n",
        "Our final model is doing better than the first model. Going through the residual plot the model is doing good, however it can be improved by maybe tranforming some variables after more careful data analysis"
      ],
      "metadata": {
        "id": "Cjel-82f5q4A"
      }
    },
    {
      "cell_type": "markdown",
      "source": [
        "# **Citation**"
      ],
      "metadata": {
        "id": "L4U8aGr5rsmI"
      }
    },
    {
      "cell_type": "markdown",
      "source": [
        "- Bevans, R. (2022) The p-value explained, Scribbr. Available at: https://www.scribbr.com/statistics/p-value/#:~:text=The%20p%2Dvalue%2C%20or%20probability,statistical%20test%20using%20your%20data. (Accessed: October 15, 2022). \n",
        "- Shetye, A. (2019) Feature selection with sklearn and Pandas, Medium. Towards Data Science. Available at: https://towardsdatascience.com/feature-selection-with-pandas-e3690ad8504b (Accessed: October 15, 2022). "
      ],
      "metadata": {
        "id": "2-pGGq08sp44"
      }
    }
  ]
}